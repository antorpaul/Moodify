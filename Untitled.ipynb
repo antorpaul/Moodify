{
 "cells": [
  {
   "cell_type": "code",
   "execution_count": 2,
   "metadata": {
    "scrolled": false
   },
   "outputs": [
    {
     "name": "stdout",
     "output_type": "stream",
     "text": [
      "514 172 514 172\n"
     ]
    }
   ],
   "source": [
    "import numpy as np\n",
    "import sklearn\n",
    "import pandas as pd\n",
    "\n",
    "df=pd.read_csv('data_moods_features.csv', sep=',',header=None)\n",
    "X = df[df.columns[5:-2]]\n",
    "Y = df[df.columns[-1]]\n",
    "#print(X)\n",
    "X, Y = np.array(X), np.array(Y)\n",
    "#print(X)\n",
    "#print(Y)\n",
    "\n",
    "np.random.shuffle(X)\n",
    "splitIndex = int(0.75 * len(X))\n",
    "Xtr, Xva, Ytr, Yva = X[:splitIndex], X[splitIndex:], Y[:splitIndex], Y[splitIndex:]\n",
    "print(len(Xtr), len(Xva), len(Ytr), len(Yva))"
   ]
  },
  {
   "cell_type": "code",
   "execution_count": 3,
   "metadata": {},
   "outputs": [
    {
     "name": "stdout",
     "output_type": "stream",
     "text": [
      "{'Happy': 105, 'Sad': 139, 'Energetic': 127, 'Calm': 143}\n"
     ]
    }
   ],
   "source": [
    "counts = {'Happy' : 0, 'Sad' : 0, 'Energetic' : 0, 'Calm' : 0}\n",
    "for line in Ytr:\n",
    "    if 'Happy' in line:\n",
    "        counts['Happy'] += 1\n",
    "    elif 'Sad' in line:\n",
    "        counts['Sad'] += 1\n",
    "    elif 'Energetic' in line:\n",
    "        counts['Energetic'] += 1\n",
    "    else:\n",
    "        counts['Calm'] += 1\n",
    "print(counts)"
   ]
  },
  {
   "cell_type": "code",
   "execution_count": 4,
   "metadata": {},
   "outputs": [
    {
     "name": "stdout",
     "output_type": "stream",
     "text": [
      "(514, 13)\n",
      "0.29069767441860467\n",
      "(514, 104)\n",
      "0.31976744186046513\n",
      "(514, 559)\n"
     ]
    },
    {
     "name": "stderr",
     "output_type": "stream",
     "text": [
      "/Library/Frameworks/Python.framework/Versions/3.8/lib/python3.8/site-packages/sklearn/linear_model/_logistic.py:762: ConvergenceWarning: lbfgs failed to converge (status=1):\n",
      "STOP: TOTAL NO. of ITERATIONS REACHED LIMIT.\n",
      "\n",
      "Increase the number of iterations (max_iter) or scale the data as shown in:\n",
      "    https://scikit-learn.org/stable/modules/preprocessing.html\n",
      "Please also refer to the documentation for alternative solver options:\n",
      "    https://scikit-learn.org/stable/modules/linear_model.html#logistic-regression\n",
      "  n_iter_i = _check_optimize_result(\n"
     ]
    },
    {
     "name": "stdout",
     "output_type": "stream",
     "text": [
      "0.32558139534883723\n",
      "(514, 2379)\n"
     ]
    },
    {
     "name": "stderr",
     "output_type": "stream",
     "text": [
      "/Library/Frameworks/Python.framework/Versions/3.8/lib/python3.8/site-packages/sklearn/linear_model/_logistic.py:762: ConvergenceWarning: lbfgs failed to converge (status=1):\n",
      "STOP: TOTAL NO. of ITERATIONS REACHED LIMIT.\n",
      "\n",
      "Increase the number of iterations (max_iter) or scale the data as shown in:\n",
      "    https://scikit-learn.org/stable/modules/preprocessing.html\n",
      "Please also refer to the documentation for alternative solver options:\n",
      "    https://scikit-learn.org/stable/modules/linear_model.html#logistic-regression\n",
      "  n_iter_i = _check_optimize_result(\n"
     ]
    },
    {
     "name": "stdout",
     "output_type": "stream",
     "text": [
      "0.29069767441860467\n",
      "(514, 8567)\n"
     ]
    },
    {
     "name": "stderr",
     "output_type": "stream",
     "text": [
      "/Library/Frameworks/Python.framework/Versions/3.8/lib/python3.8/site-packages/sklearn/linear_model/_logistic.py:762: ConvergenceWarning: lbfgs failed to converge (status=1):\n",
      "STOP: TOTAL NO. of ITERATIONS REACHED LIMIT.\n",
      "\n",
      "Increase the number of iterations (max_iter) or scale the data as shown in:\n",
      "    https://scikit-learn.org/stable/modules/preprocessing.html\n",
      "Please also refer to the documentation for alternative solver options:\n",
      "    https://scikit-learn.org/stable/modules/linear_model.html#logistic-regression\n",
      "  n_iter_i = _check_optimize_result(\n"
     ]
    },
    {
     "name": "stdout",
     "output_type": "stream",
     "text": [
      "0.29651162790697677\n",
      "(514, 27131)\n"
     ]
    },
    {
     "name": "stderr",
     "output_type": "stream",
     "text": [
      "/Library/Frameworks/Python.framework/Versions/3.8/lib/python3.8/site-packages/sklearn/linear_model/_logistic.py:762: ConvergenceWarning: lbfgs failed to converge (status=1):\n",
      "STOP: TOTAL NO. of ITERATIONS REACHED LIMIT.\n",
      "\n",
      "Increase the number of iterations (max_iter) or scale the data as shown in:\n",
      "    https://scikit-learn.org/stable/modules/preprocessing.html\n",
      "Please also refer to the documentation for alternative solver options:\n",
      "    https://scikit-learn.org/stable/modules/linear_model.html#logistic-regression\n",
      "  n_iter_i = _check_optimize_result(\n"
     ]
    },
    {
     "name": "stdout",
     "output_type": "stream",
     "text": [
      "0.26744186046511625\n",
      "(514, 77519)\n"
     ]
    },
    {
     "name": "stderr",
     "output_type": "stream",
     "text": [
      "/Library/Frameworks/Python.framework/Versions/3.8/lib/python3.8/site-packages/sklearn/linear_model/_logistic.py:762: ConvergenceWarning: lbfgs failed to converge (status=1):\n",
      "STOP: TOTAL NO. of ITERATIONS REACHED LIMIT.\n",
      "\n",
      "Increase the number of iterations (max_iter) or scale the data as shown in:\n",
      "    https://scikit-learn.org/stable/modules/preprocessing.html\n",
      "Please also refer to the documentation for alternative solver options:\n",
      "    https://scikit-learn.org/stable/modules/linear_model.html#logistic-regression\n",
      "  n_iter_i = _check_optimize_result(\n"
     ]
    },
    {
     "name": "stdout",
     "output_type": "stream",
     "text": [
      "0.3023255813953488\n",
      "[0.3560311284046693, 0.6206225680933852, 0.9980544747081712, 1.0, 1.0, 0.9941634241245136, 0.9980544747081712] [0.29069767441860467, 0.31976744186046513, 0.32558139534883723, 0.29069767441860467, 0.29651162790697677, 0.26744186046511625, 0.3023255813953488]\n"
     ]
    }
   ],
   "source": [
    "import sklearn.linear_model as lm\n",
    "from sklearn import preprocessing\n",
    "from sklearn.preprocessing import PolynomialFeatures\n",
    "\n",
    "degrees = [1,2,3,4,5,6,7]\n",
    "training_scores, validation_scores = [], []\n",
    "\n",
    "for degree in degrees:\n",
    "    clf = lm.LogisticRegression(penalty = 'l2', max_iter = 250)\n",
    "\n",
    "    scaler = preprocessing.StandardScaler().fit(Xtr)\n",
    "    X_scaled = scaler.transform(Xtr)\n",
    "    #print(X_scaled.mean(axis=0))\n",
    "\n",
    "    poly = PolynomialFeatures(degree = degree, interaction_only=False, include_bias=False)\n",
    "    X_poly = poly.fit_transform(X_scaled)\n",
    "    print(X_poly.shape)\n",
    "\n",
    "\n",
    "    clf.fit(X_poly, Ytr)\n",
    "    clf.predict(X_poly)\n",
    "    training_scores.append(clf.score(X_poly, Ytr))\n",
    "\n",
    "    Xva_scaled = scaler.transform(Xva)\n",
    "    Xva_poly = poly.fit_transform(Xva_scaled)\n",
    "    print(clf.score(Xva_poly, Yva))\n",
    "    validation_scores.append(clf.score(Xva_poly, Yva))\n",
    "\n",
    "print(training_scores, validation_scores)"
   ]
  },
  {
   "cell_type": "code",
   "execution_count": 12,
   "metadata": {},
   "outputs": [
    {
     "data": {
      "image/png": "[encoded data removed]",
      "text/plain": [
       "<Figure size 432x288 with 1 Axes>"
      ]
     },
     "metadata": {
      "needs_background": "light"
     },
     "output_type": "display_data"
    }
   ],
   "source": [
    "import matplotlib.pyplot as plt\n",
    "training = plt.plot(degrees, training_scores, label = 'training')\n",
    "validation = plt.plot(degrees, validation_scores, label = 'validation')\n",
    "plt.legend(handles=[training[0], validation[0]])\n",
    "plt.show()"
   ]
  },
  {
   "cell_type": "code",
   "execution_count": 14,
   "metadata": {},
   "outputs": [
    {
     "name": "stdout",
     "output_type": "stream",
     "text": [
      "(514, 13)\n",
      "0.29069767441860467\n",
      "(514, 104)\n",
      "0.31976744186046513\n",
      "(514, 559)\n",
      "0.3313953488372093\n",
      "(514, 2379)\n"
     ]
    },
    {
     "name": "stderr",
     "output_type": "stream",
     "text": [
      "/Library/Frameworks/Python.framework/Versions/3.8/lib/python3.8/site-packages/sklearn/linear_model/_logistic.py:762: ConvergenceWarning: lbfgs failed to converge (status=1):\n",
      "STOP: TOTAL NO. of ITERATIONS REACHED LIMIT.\n",
      "\n",
      "Increase the number of iterations (max_iter) or scale the data as shown in:\n",
      "    https://scikit-learn.org/stable/modules/preprocessing.html\n",
      "Please also refer to the documentation for alternative solver options:\n",
      "    https://scikit-learn.org/stable/modules/linear_model.html#logistic-regression\n",
      "  n_iter_i = _check_optimize_result(\n"
     ]
    },
    {
     "name": "stdout",
     "output_type": "stream",
     "text": [
      "0.29069767441860467\n",
      "(514, 8567)\n"
     ]
    },
    {
     "name": "stderr",
     "output_type": "stream",
     "text": [
      "/Library/Frameworks/Python.framework/Versions/3.8/lib/python3.8/site-packages/sklearn/linear_model/_logistic.py:762: ConvergenceWarning: lbfgs failed to converge (status=1):\n",
      "STOP: TOTAL NO. of ITERATIONS REACHED LIMIT.\n",
      "\n",
      "Increase the number of iterations (max_iter) or scale the data as shown in:\n",
      "    https://scikit-learn.org/stable/modules/preprocessing.html\n",
      "Please also refer to the documentation for alternative solver options:\n",
      "    https://scikit-learn.org/stable/modules/linear_model.html#logistic-regression\n",
      "  n_iter_i = _check_optimize_result(\n"
     ]
    },
    {
     "name": "stdout",
     "output_type": "stream",
     "text": [
      "0.29069767441860467\n",
      "(514, 27131)\n"
     ]
    },
    {
     "name": "stderr",
     "output_type": "stream",
     "text": [
      "/Library/Frameworks/Python.framework/Versions/3.8/lib/python3.8/site-packages/sklearn/linear_model/_logistic.py:762: ConvergenceWarning: lbfgs failed to converge (status=1):\n",
      "STOP: TOTAL NO. of ITERATIONS REACHED LIMIT.\n",
      "\n",
      "Increase the number of iterations (max_iter) or scale the data as shown in:\n",
      "    https://scikit-learn.org/stable/modules/preprocessing.html\n",
      "Please also refer to the documentation for alternative solver options:\n",
      "    https://scikit-learn.org/stable/modules/linear_model.html#logistic-regression\n",
      "  n_iter_i = _check_optimize_result(\n"
     ]
    },
    {
     "name": "stdout",
     "output_type": "stream",
     "text": [
      "0.26744186046511625\n",
      "(514, 77519)\n"
     ]
    },
    {
     "name": "stderr",
     "output_type": "stream",
     "text": [
      "/Library/Frameworks/Python.framework/Versions/3.8/lib/python3.8/site-packages/sklearn/linear_model/_logistic.py:762: ConvergenceWarning: lbfgs failed to converge (status=1):\n",
      "STOP: TOTAL NO. of ITERATIONS REACHED LIMIT.\n",
      "\n",
      "Increase the number of iterations (max_iter) or scale the data as shown in:\n",
      "    https://scikit-learn.org/stable/modules/preprocessing.html\n",
      "Please also refer to the documentation for alternative solver options:\n",
      "    https://scikit-learn.org/stable/modules/linear_model.html#logistic-regression\n",
      "  n_iter_i = _check_optimize_result(\n"
     ]
    },
    {
     "name": "stdout",
     "output_type": "stream",
     "text": [
      "0.27325581395348836\n",
      "[0.3560311284046693, 0.6206225680933852, 0.9980544747081712, 1.0, 1.0, 1.0, 1.0] [0.29069767441860467, 0.31976744186046513, 0.3313953488372093, 0.29069767441860467, 0.29069767441860467, 0.26744186046511625, 0.27325581395348836]\n"
     ]
    }
   ],
   "source": [
    "degrees = [1,2,3,4,5,6,7]\n",
    "training_scores, validation_scores = [], []\n",
    "\n",
    "for degree in degrees:\n",
    "    clf = lm.LogisticRegression(penalty = 'l2', max_iter = 500, tol = 0.001)\n",
    "\n",
    "    scaler = preprocessing.StandardScaler().fit(Xtr)\n",
    "    X_scaled = scaler.transform(Xtr)\n",
    "    #print(X_scaled.mean(axis=0))\n",
    "\n",
    "    poly = PolynomialFeatures(degree = degree, interaction_only=False, include_bias=False)\n",
    "    X_poly = poly.fit_transform(X_scaled)\n",
    "    print(X_poly.shape)\n",
    "\n",
    "\n",
    "    clf.fit(X_poly, Ytr)\n",
    "    clf.predict(X_poly)\n",
    "    training_scores.append(clf.score(X_poly, Ytr))\n",
    "\n",
    "    Xva_scaled = scaler.transform(Xva)\n",
    "    Xva_poly = poly.fit_transform(Xva_scaled)\n",
    "    print(clf.score(Xva_poly, Yva))\n",
    "    validation_scores.append(clf.score(Xva_poly, Yva))\n",
    "\n",
    "print(training_scores, validation_scores)"
   ]
  },
  {
   "cell_type": "code",
   "execution_count": 15,
   "metadata": {},
   "outputs": [
    {
     "data": {
      "image/png": "[encoded data removed]",
      "text/plain": [
       "<Figure size 432x288 with 1 Axes>"
      ]
     },
     "metadata": {
      "needs_background": "light"
     },
     "output_type": "display_data"
    }
   ],
   "source": [
    "training = plt.plot(degrees, training_scores, label = 'training')\n",
    "validation = plt.plot(degrees, validation_scores, label = 'validation')\n",
    "plt.legend(handles=[training[0], validation[0]])\n",
    "plt.show()"
   ]
  },
  {
   "cell_type": "code",
   "execution_count": 24,
   "metadata": {},
   "outputs": [
    {
     "name": "stdout",
     "output_type": "stream",
     "text": [
      "(514, 104)\n",
      "[[ 0.07705588  0.09497973 -0.2725956  -0.37618827 -0.38803766 -0.05191989\n",
      "   0.44115    -0.03610982  0.15840441  0.16217652  0.0269794   0.06785559\n",
      "   0.16095086 -0.19621329 -0.20409669 -0.04327126 -0.04540681  0.31661217\n",
      "  -0.19645796  0.06999167  0.05258568 -0.72654819  0.00244142 -0.17225557\n",
      "   0.26234836  0.19598017 -0.08592557 -0.1604022   0.3539186   0.26159696\n",
      "   0.09929292  0.15261833  0.05264291  0.2800914   0.1588497  -0.03958767\n",
      "   0.13605479  0.52918298 -0.08120405 -0.36109663  0.14434656 -0.40808302\n",
      "   0.18062174 -0.44248802  0.05802696 -0.26866221 -0.16567176 -0.05591229\n",
      "   0.22198449  0.64939589  0.37870792  0.50635951  0.41302867  0.30244863\n",
      "  -0.26499609 -0.09767157 -0.16155305 -0.06268027  0.40333418  0.59154\n",
      "   0.88517659 -0.09684056  0.78411111 -0.81217621  0.54293824 -0.3000245\n",
      "  -0.09953997  0.19974988 -0.12799788  0.16414616  0.28932839  0.02412686\n",
      "  -0.20669537 -0.37041482 -0.23993233  0.57810263  0.01167125 -0.03290309\n",
      "  -0.18484318  0.09675299  0.18498411 -0.01615244 -0.07456337  0.25632843\n",
      "  -0.34444152 -0.16748511  0.01962786  0.06968111  0.56883792  0.43956109\n",
      "  -0.32238214 -0.08780605 -0.13724355  0.05018014 -0.14921275  0.00453315\n",
      "   0.10589746 -0.01499514 -0.34119282 -0.16085121 -0.09476054 -0.1694745\n",
      "  -0.01723062  0.00350067]\n",
      " [ 0.08650945 -0.03306434 -0.04826349  0.18544749  0.55009533  0.22072806\n",
      "  -0.0219363   0.06328413 -0.39327694 -0.40240182 -0.1460693  -0.10890958\n",
      "   0.18107109  0.24748712  0.11249375 -0.04460612 -0.2082584  -0.334228\n",
      "   0.2289192  -0.34508407  0.14896038  0.40286914 -0.06262267  0.18090248\n",
      "  -0.14154363  0.00715686 -0.20691655  0.0199755  -0.37512732 -0.02527929\n",
      "  -0.03332409 -0.00100995 -0.22960323 -0.48709478 -0.02683115  0.13655017\n",
      "   0.16263302 -0.35656732 -0.06925348 -0.43259033 -0.03510438 -0.02924789\n",
      "  -0.04021404  0.1355053  -0.01296154  0.18597305 -0.56209938  0.09471805\n",
      "  -0.01936687 -0.12721797  0.04979852 -0.04271471 -0.40302302  0.33886254\n",
      "  -0.12746828 -0.2685951  -0.67767597 -0.2241991   0.12658728 -0.0971338\n",
      "  -0.77158477  0.46723381 -0.72735803  0.51298726  0.28434383 -0.2148738\n",
      "  -0.11037817  0.01325876 -0.03513241 -0.07247731  0.51499221  0.46517154\n",
      "  -0.02309067  0.25332841 -0.1747071  -0.64769598 -0.05612016  0.33895443\n",
      "  -0.51170172 -0.1749561  -0.23077403  0.13890377 -0.1031444   0.33783102\n",
      "   0.24177082  0.22944508  0.28325393 -0.24958229  0.60703621  0.04669715\n",
      "  -0.8322543   0.06540209 -0.19334205 -0.21705401  0.1084771  -0.12570434\n",
      "  -0.05660685 -0.11917209 -0.10830319 -0.06930856 -0.39943192  0.22774745\n",
      "  -0.1607592  -0.03068216]\n",
      " [-0.09366987 -0.1635236   0.15673929  0.24337328 -0.0305476  -0.28340854\n",
      "   0.13473155  0.14466754  0.10008441 -0.35379923  0.07052218  0.0878616\n",
      "  -0.19243566 -0.13067251  0.04937576 -0.04441165 -0.00236751  0.25315242\n",
      "  -0.11251628 -0.15350824 -0.12109134 -0.07114204  0.05153303 -0.03894577\n",
      "  -0.10845768 -0.07238124  0.16907839  0.15222719  0.00373567 -0.19234019\n",
      "  -0.1259001  -0.01973344  0.36961073 -0.07504228 -0.47293858 -0.01060559\n",
      "  -0.31690571  0.33547365 -0.02163865  0.49006404 -0.24347455  0.13296874\n",
      "   0.05332735  0.36585963  0.03583533 -0.03159119  0.28492961 -0.06939805\n",
      "   0.23463895 -0.1882806  -0.41956295 -0.15072906  0.38255137 -0.23593956\n",
      "   0.7394377   0.65239796  0.49356848  0.00475946 -0.08779626 -0.18917362\n",
      "   0.33758405 -0.09449678  0.16334621  0.61293958 -0.03950737  0.55046303\n",
      "  -0.04463428  0.31769547  0.23488781 -0.26553797 -0.16998823 -0.4847767\n",
      "  -0.22513076 -0.186489    0.05175641 -0.01140439  0.01242888 -0.10462812\n",
      "   0.03162319  0.06339063  0.23944351  0.05320926 -0.17524642 -0.07435901\n",
      "  -0.44712029 -0.01297758  0.05555341  0.11914066 -0.9769218  -0.07675864\n",
      "   0.79563532 -0.29412884  0.2464957  -0.4473792   0.01731032 -0.20140015\n",
      "  -0.0394971  -0.33846252  0.19080628 -0.00998545  0.36851158  0.09743742\n",
      "   0.11806626  0.08080501]\n",
      " [-0.06989546  0.10160822  0.1641198  -0.0526325  -0.13151006  0.11460037\n",
      "  -0.55394525 -0.17184185  0.13478813  0.59402453  0.04856772 -0.04680761\n",
      "  -0.14958629  0.07939868  0.04222717  0.13228903  0.25603273 -0.23553659\n",
      "   0.08005504  0.42860064 -0.08045472  0.39482109  0.00864822  0.03029886\n",
      "  -0.01234705 -0.13075578  0.12376373 -0.01180049  0.01747306 -0.04397748\n",
      "   0.05993128 -0.13187493 -0.19265042  0.28204566  0.34092003 -0.08635691\n",
      "   0.01821791 -0.50808931  0.17209618  0.30362293  0.13423236  0.30436217\n",
      "  -0.19373505 -0.05887691 -0.08090075  0.11428035  0.44284152  0.03059229\n",
      "  -0.43725657 -0.33389731 -0.00894349 -0.31291573 -0.39255703 -0.40537162\n",
      "  -0.34697333 -0.28613128  0.34566054  0.2821199  -0.4421252  -0.30523258\n",
      "  -0.45117586 -0.27589647 -0.22009929 -0.31375063 -0.7877747  -0.03556474\n",
      "   0.25455242 -0.53070412 -0.07175752  0.17386912 -0.63433237 -0.00452169\n",
      "   0.4549168   0.30357541  0.36288302  0.08099775  0.03202002 -0.20142322\n",
      "   0.66492171  0.01481248 -0.19365359 -0.17596059  0.35295419 -0.51980044\n",
      "   0.54979099 -0.04898239 -0.35843519  0.06076052 -0.19895232 -0.4094996\n",
      "   0.35900112  0.31653279  0.0840899   0.61425306  0.02342533  0.32257134\n",
      "  -0.00979351  0.47262975  0.25868973  0.24014523  0.12568088 -0.15571037\n",
      "   0.05992356 -0.05362351]]\n",
      "0.31976744186046513\n"
     ]
    },
    {
     "ename": "TypeError",
     "evalue": "only size-1 arrays can be converted to Python scalars",
     "output_type": "error",
     "traceback": [
      "\u001b[0;31m---------------------------------------------------------------------------\u001b[0m",
      "\u001b[0;31mTypeError\u001b[0m                                 Traceback (most recent call last)",
      "\u001b[0;32m<ipython-input-24-ed66b4d612f5>\u001b[0m in \u001b[0;36m<module>\u001b[0;34m\u001b[0m\n\u001b[1;32m     23\u001b[0m \u001b[0;34m\u001b[0m\u001b[0m\n\u001b[1;32m     24\u001b[0m \u001b[0;32mfor\u001b[0m \u001b[0mi\u001b[0m\u001b[0;34m,\u001b[0m\u001b[0mv\u001b[0m \u001b[0;32min\u001b[0m \u001b[0menumerate\u001b[0m\u001b[0;34m(\u001b[0m\u001b[0mimportance\u001b[0m\u001b[0;34m)\u001b[0m\u001b[0;34m:\u001b[0m\u001b[0;34m\u001b[0m\u001b[0;34m\u001b[0m\u001b[0m\n\u001b[0;32m---> 25\u001b[0;31m     \u001b[0mprint\u001b[0m\u001b[0;34m(\u001b[0m\u001b[0;34m'Feature: %0d, Score: %.5f'\u001b[0m \u001b[0;34m%\u001b[0m \u001b[0;34m(\u001b[0m\u001b[0mi\u001b[0m\u001b[0;34m,\u001b[0m\u001b[0mv\u001b[0m\u001b[0;34m)\u001b[0m\u001b[0;34m)\u001b[0m\u001b[0;34m\u001b[0m\u001b[0;34m\u001b[0m\u001b[0m\n\u001b[0m",
      "\u001b[0;31mTypeError\u001b[0m: only size-1 arrays can be converted to Python scalars"
     ]
    }
   ],
   "source": [
    "clf = lm.LogisticRegression(penalty = 'l2', max_iter = 250)\n",
    "\n",
    "scaler = preprocessing.StandardScaler().fit(Xtr)\n",
    "X_scaled = scaler.transform(Xtr)\n",
    "#print(X_scaled.mean(axis=0))\n",
    "\n",
    "poly = PolynomialFeatures(degree = 2, interaction_only=False, include_bias=False)\n",
    "X_poly = poly.fit_transform(X_scaled)\n",
    "print(X_poly.shape)\n",
    "\n",
    "\n",
    "clf.fit(X_poly, Ytr)\n",
    "print(clf.coef_)\n",
    "clf.predict(X_poly)\n",
    "training_scores.append(clf.score(X_poly, Ytr))\n",
    "\n",
    "Xva_scaled = scaler.transform(Xva)\n",
    "Xva_poly = poly.fit_transform(Xva_scaled)\n",
    "print(clf.score(Xva_poly, Yva))\n",
    "validation_scores.append(clf.score(Xva_poly, Yva))\n",
    "\n",
    "importance = clf.coef_\n",
    "\n",
    "for i,v in enumerate(importance):\n",
    "    print('Feature: %0d, Score: %.5f' % (i,v))"
   ]
  },
  {
   "cell_type": "code",
   "execution_count": 4,
   "metadata": {},
   "outputs": [
    {
     "name": "stdout",
     "output_type": "stream",
     "text": [
      "[0.28488372093023256, 0.22674418604651161, 0.28488372093023256, 0.28488372093023256, 0.20348837209302326, 0.2558139534883721, 0.27325581395348836, 0.27325581395348836, 0.3023255813953488, 0.23255813953488372, 0.29069767441860467, 0.23255813953488372, 0.23837209302325582]\n",
      "0.3430232558139535 (3, 6)\n",
      "[0.         0.13083482 0.20034121 0.         0.15137901 0.06315111\n",
      " 0.09274199 0.03553813 0.07681366 0.17490002 0.07430005 0.\n",
      " 0.        ]\n",
      "[[3.18800e+05 3.81000e-01 1.89000e-02]\n",
      " [3.94862e+05 4.85000e-01 7.65000e-01]\n",
      " [2.85320e+05 6.01000e-01 7.43000e-01]\n",
      " ...\n",
      " [1.43212e+05 4.08000e-01 9.87000e-01]\n",
      " [2.51626e+05 5.88000e-01 6.10000e-01]\n",
      " [2.31786e+05 6.94000e-01 1.53000e-02]]\n",
      "0.28488372093023256\n"
     ]
    }
   ],
   "source": [
    "from sklearn.tree import DecisionTreeClassifier\n",
    "\n",
    "depths = [1, 2, 3, 4, 5, 6, 10, 15, 25, 50]\n",
    "features = [i for i in range(1, 14)]\n",
    "scores = []\n",
    "tmp_scores = []\n",
    "\n",
    "for depth in depths:\n",
    "    for feature in features:\n",
    "        dt = DecisionTreeClassifier(max_features = feature, max_depth = depth, criterion = 'entropy', random_state=0)\n",
    "        dt.fit(Xtr, Ytr)\n",
    "        importances = [(index, dt.feature_importances_[index]) for index in range(len(dt.feature_importances_))]\n",
    "        importances.sort(key = lambda x : x[1])\n",
    "        columns = [importances[i][0] for i in range(5)]\n",
    "        X_tmp = Xtr[:, columns]\n",
    "        Xva_tmp = Xva[:, columns]\n",
    "        dt2 = DecisionTreeClassifier(max_depth = depth, criterion = 'entropy', random_state=0)\n",
    "        dt2.fit(X_tmp, Ytr)\n",
    "        tmp_scores.append(dt2.score(Xva_tmp, Yva))\n",
    "    scores.append(tmp_scores)\n",
    "    tmp_scores = []\n",
    "print(scores[len(scores) - 1])\n",
    "max_score = 0\n",
    "indices = (0, 0)\n",
    "for index in range(len(scores)):\n",
    "    for col in scores[index]:\n",
    "        if col > max_score:\n",
    "            max_score = col\n",
    "            indices = (index, scores[index].index(col))\n",
    "print(max_score, indices)\n",
    "\n",
    "dt = DecisionTreeClassifier(max_depth = 5, max_features = 8, criterion = 'entropy', random_state=0)\n",
    "dt.fit(Xtr, Ytr)\n",
    "print((dt.feature_importances_))\n",
    "Xtrsub = Xtr[:,[1,2,3]]\n",
    "print(Xtrsub)\n",
    "Xvasub = Xva[:,[1,2,3]]\n",
    "#Xtrsub = [Xtr[:,6]]\n",
    "dt = DecisionTreeClassifier(max_depth = 5, criterion = 'entropy', random_state=0)\n",
    "dt.fit(Xtrsub, Ytr)\n",
    "print(dt.score(Xvasub, Yva))\n"
   ]
  }
 ],
 "metadata": {
  "kernelspec": {
   "display_name": "Python 3",
   "language": "python",
   "name": "python3"
  },
  "language_info": {
   "codemirror_mode": {
    "name": "ipython",
    "version": 3
   },
   "file_extension": ".py",
   "mimetype": "text/x-python",
   "name": "python",
   "nbconvert_exporter": "python",
   "pygments_lexer": "ipython3",
   "version": "3.8.6"
  }
 },
 "nbformat": 4,
 "nbformat_minor": 4
}
