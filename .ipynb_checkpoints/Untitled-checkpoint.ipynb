{
 "cells": [
  {
   "cell_type": "code",
   "execution_count": 2,
   "metadata": {
    "scrolled": false
   },
   "outputs": [
    {
     "name": "stdout",
     "output_type": "stream",
     "text": [
      "514 172 514 172\n"
     ]
    }
   ],
   "source": [
    "import numpy as np\n",
    "import sklearn\n",
    "\n",
    "\"\"\"file = open('data_moods_features.csv')\n",
    "numpy_array = np.genfromtxt(file, delimiter=',')\n",
    "print(numpy_array)\"\"\"\n",
    "\n",
    "import pandas as pd\n",
    "df=pd.read_csv('data_moods_features.csv', sep=',',header=None)\n",
    "X = df[df.columns[5:-2]]\n",
    "Y = df[df.columns[-1]]\n",
    "#print(X)\n",
    "X, Y = np.array(X), np.array(Y)\n",
    "#print(X)\n",
    "#print(Y)\n",
    "\n",
    "np.random.shuffle(X)\n",
    "splitIndex = int(0.75 * len(X))\n",
    "Xtr, Xva, Ytr, Yva = X[:splitIndex], X[splitIndex:], Y[:splitIndex], Y[splitIndex:]\n",
    "print(len(Xtr), len(Xva), len(Ytr), len(Yva))"
   ]
  },
  {
   "cell_type": "code",
   "execution_count": 3,
   "metadata": {},
   "outputs": [
    {
     "name": "stdout",
     "output_type": "stream",
     "text": [
      "{'Happy': 105, 'Sad': 139, 'Energetic': 127, 'Calm': 143}\n"
     ]
    }
   ],
   "source": [
    "counts = {'Happy' : 0, 'Sad' : 0, 'Energetic' : 0, 'Calm' : 0}\n",
    "for line in Ytr:\n",
    "    if 'Happy' in line:\n",
    "        counts['Happy'] += 1\n",
    "    elif 'Sad' in line:\n",
    "        counts['Sad'] += 1\n",
    "    elif 'Energetic' in line:\n",
    "        counts['Energetic'] += 1\n",
    "    else:\n",
    "        counts['Calm'] += 1\n",
    "print(counts)"
   ]
  },
  {
   "cell_type": "code",
   "execution_count": 4,
   "metadata": {},
   "outputs": [
    {
     "name": "stdout",
     "output_type": "stream",
     "text": [
      "(514, 13)\n",
      "0.29069767441860467\n",
      "(514, 104)\n",
      "0.31976744186046513\n",
      "(514, 559)\n"
     ]
    },
    {
     "name": "stderr",
     "output_type": "stream",
     "text": [
      "/Library/Frameworks/Python.framework/Versions/3.8/lib/python3.8/site-packages/sklearn/linear_model/_logistic.py:762: ConvergenceWarning: lbfgs failed to converge (status=1):\n",
      "STOP: TOTAL NO. of ITERATIONS REACHED LIMIT.\n",
      "\n",
      "Increase the number of iterations (max_iter) or scale the data as shown in:\n",
      "    https://scikit-learn.org/stable/modules/preprocessing.html\n",
      "Please also refer to the documentation for alternative solver options:\n",
      "    https://scikit-learn.org/stable/modules/linear_model.html#logistic-regression\n",
      "  n_iter_i = _check_optimize_result(\n"
     ]
    },
    {
     "name": "stdout",
     "output_type": "stream",
     "text": [
      "0.32558139534883723\n",
      "(514, 2379)\n"
     ]
    },
    {
     "name": "stderr",
     "output_type": "stream",
     "text": [
      "/Library/Frameworks/Python.framework/Versions/3.8/lib/python3.8/site-packages/sklearn/linear_model/_logistic.py:762: ConvergenceWarning: lbfgs failed to converge (status=1):\n",
      "STOP: TOTAL NO. of ITERATIONS REACHED LIMIT.\n",
      "\n",
      "Increase the number of iterations (max_iter) or scale the data as shown in:\n",
      "    https://scikit-learn.org/stable/modules/preprocessing.html\n",
      "Please also refer to the documentation for alternative solver options:\n",
      "    https://scikit-learn.org/stable/modules/linear_model.html#logistic-regression\n",
      "  n_iter_i = _check_optimize_result(\n"
     ]
    },
    {
     "name": "stdout",
     "output_type": "stream",
     "text": [
      "0.29069767441860467\n",
      "(514, 8567)\n"
     ]
    },
    {
     "name": "stderr",
     "output_type": "stream",
     "text": [
      "/Library/Frameworks/Python.framework/Versions/3.8/lib/python3.8/site-packages/sklearn/linear_model/_logistic.py:762: ConvergenceWarning: lbfgs failed to converge (status=1):\n",
      "STOP: TOTAL NO. of ITERATIONS REACHED LIMIT.\n",
      "\n",
      "Increase the number of iterations (max_iter) or scale the data as shown in:\n",
      "    https://scikit-learn.org/stable/modules/preprocessing.html\n",
      "Please also refer to the documentation for alternative solver options:\n",
      "    https://scikit-learn.org/stable/modules/linear_model.html#logistic-regression\n",
      "  n_iter_i = _check_optimize_result(\n"
     ]
    },
    {
     "name": "stdout",
     "output_type": "stream",
     "text": [
      "0.29651162790697677\n",
      "(514, 27131)\n"
     ]
    },
    {
     "name": "stderr",
     "output_type": "stream",
     "text": [
      "/Library/Frameworks/Python.framework/Versions/3.8/lib/python3.8/site-packages/sklearn/linear_model/_logistic.py:762: ConvergenceWarning: lbfgs failed to converge (status=1):\n",
      "STOP: TOTAL NO. of ITERATIONS REACHED LIMIT.\n",
      "\n",
      "Increase the number of iterations (max_iter) or scale the data as shown in:\n",
      "    https://scikit-learn.org/stable/modules/preprocessing.html\n",
      "Please also refer to the documentation for alternative solver options:\n",
      "    https://scikit-learn.org/stable/modules/linear_model.html#logistic-regression\n",
      "  n_iter_i = _check_optimize_result(\n"
     ]
    },
    {
     "name": "stdout",
     "output_type": "stream",
     "text": [
      "0.26744186046511625\n",
      "(514, 77519)\n"
     ]
    },
    {
     "name": "stderr",
     "output_type": "stream",
     "text": [
      "/Library/Frameworks/Python.framework/Versions/3.8/lib/python3.8/site-packages/sklearn/linear_model/_logistic.py:762: ConvergenceWarning: lbfgs failed to converge (status=1):\n",
      "STOP: TOTAL NO. of ITERATIONS REACHED LIMIT.\n",
      "\n",
      "Increase the number of iterations (max_iter) or scale the data as shown in:\n",
      "    https://scikit-learn.org/stable/modules/preprocessing.html\n",
      "Please also refer to the documentation for alternative solver options:\n",
      "    https://scikit-learn.org/stable/modules/linear_model.html#logistic-regression\n",
      "  n_iter_i = _check_optimize_result(\n"
     ]
    },
    {
     "name": "stdout",
     "output_type": "stream",
     "text": [
      "0.3023255813953488\n",
      "[0.3560311284046693, 0.6206225680933852, 0.9980544747081712, 1.0, 1.0, 0.9941634241245136, 0.9980544747081712] [0.29069767441860467, 0.31976744186046513, 0.32558139534883723, 0.29069767441860467, 0.29651162790697677, 0.26744186046511625, 0.3023255813953488]\n"
     ]
    }
   ],
   "source": [
    "import sklearn.linear_model as lm\n",
    "from sklearn import preprocessing\n",
    "from sklearn.preprocessing import PolynomialFeatures\n",
    "\n",
    "degrees = [1,2,3,4,5,6,7]\n",
    "training_scores, validation_scores = [], []\n",
    "\n",
    "for degree in degrees:\n",
    "    clf = lm.LogisticRegression(penalty = 'l2', max_iter = 250)\n",
    "\n",
    "    scaler = preprocessing.StandardScaler().fit(Xtr)\n",
    "    X_scaled = scaler.transform(Xtr)\n",
    "    #print(X_scaled.mean(axis=0))\n",
    "\n",
    "    poly = PolynomialFeatures(degree = degree, interaction_only=False, include_bias=False)\n",
    "    X_poly = poly.fit_transform(X_scaled)\n",
    "    print(X_poly.shape)\n",
    "\n",
    "\n",
    "    clf.fit(X_poly, Ytr)\n",
    "    clf.predict(X_poly)\n",
    "    training_scores.append(clf.score(X_poly, Ytr))\n",
    "\n",
    "    Xva_scaled = scaler.transform(Xva)\n",
    "    Xva_poly = poly.fit_transform(Xva_scaled)\n",
    "    print(clf.score(Xva_poly, Yva))\n",
    "    validation_scores.append(clf.score(Xva_poly, Yva))\n",
    "\n",
    "print(training_scores, validation_scores)"
   ]
  },
  {
   "cell_type": "code",
   "execution_count": 12,
   "metadata": {},
   "outputs": [
    {
     "data": {
      "image/png": "[encoded data removed]",
      "text/plain": [
       "<Figure size 432x288 with 1 Axes>"
      ]
     },
     "metadata": {
      "needs_background": "light"
     },
     "output_type": "display_data"
    }
   ],
   "source": [
    "import matplotlib.pyplot as plt\n",
    "training = plt.plot(degrees, training_scores, label = 'training')\n",
    "validation = plt.plot(degrees, validation_scores, label = 'validation')\n",
    "plt.legend(handles=[training[0], validation[0]])\n",
    "plt.show()"
   ]
  },
  {
   "cell_type": "code",
   "execution_count": 14,
   "metadata": {},
   "outputs": [
    {
     "name": "stdout",
     "output_type": "stream",
     "text": [
      "(514, 13)\n",
      "0.29069767441860467\n",
      "(514, 104)\n",
      "0.31976744186046513\n",
      "(514, 559)\n",
      "0.3313953488372093\n",
      "(514, 2379)\n"
     ]
    },
    {
     "name": "stderr",
     "output_type": "stream",
     "text": [
      "/Library/Frameworks/Python.framework/Versions/3.8/lib/python3.8/site-packages/sklearn/linear_model/_logistic.py:762: ConvergenceWarning: lbfgs failed to converge (status=1):\n",
      "STOP: TOTAL NO. of ITERATIONS REACHED LIMIT.\n",
      "\n",
      "Increase the number of iterations (max_iter) or scale the data as shown in:\n",
      "    https://scikit-learn.org/stable/modules/preprocessing.html\n",
      "Please also refer to the documentation for alternative solver options:\n",
      "    https://scikit-learn.org/stable/modules/linear_model.html#logistic-regression\n",
      "  n_iter_i = _check_optimize_result(\n"
     ]
    },
    {
     "name": "stdout",
     "output_type": "stream",
     "text": [
      "0.29069767441860467\n",
      "(514, 8567)\n"
     ]
    },
    {
     "name": "stderr",
     "output_type": "stream",
     "text": [
      "/Library/Frameworks/Python.framework/Versions/3.8/lib/python3.8/site-packages/sklearn/linear_model/_logistic.py:762: ConvergenceWarning: lbfgs failed to converge (status=1):\n",
      "STOP: TOTAL NO. of ITERATIONS REACHED LIMIT.\n",
      "\n",
      "Increase the number of iterations (max_iter) or scale the data as shown in:\n",
      "    https://scikit-learn.org/stable/modules/preprocessing.html\n",
      "Please also refer to the documentation for alternative solver options:\n",
      "    https://scikit-learn.org/stable/modules/linear_model.html#logistic-regression\n",
      "  n_iter_i = _check_optimize_result(\n"
     ]
    },
    {
     "name": "stdout",
     "output_type": "stream",
     "text": [
      "0.29069767441860467\n",
      "(514, 27131)\n"
     ]
    },
    {
     "name": "stderr",
     "output_type": "stream",
     "text": [
      "/Library/Frameworks/Python.framework/Versions/3.8/lib/python3.8/site-packages/sklearn/linear_model/_logistic.py:762: ConvergenceWarning: lbfgs failed to converge (status=1):\n",
      "STOP: TOTAL NO. of ITERATIONS REACHED LIMIT.\n",
      "\n",
      "Increase the number of iterations (max_iter) or scale the data as shown in:\n",
      "    https://scikit-learn.org/stable/modules/preprocessing.html\n",
      "Please also refer to the documentation for alternative solver options:\n",
      "    https://scikit-learn.org/stable/modules/linear_model.html#logistic-regression\n",
      "  n_iter_i = _check_optimize_result(\n"
     ]
    },
    {
     "name": "stdout",
     "output_type": "stream",
     "text": [
      "0.26744186046511625\n",
      "(514, 77519)\n"
     ]
    },
    {
     "name": "stderr",
     "output_type": "stream",
     "text": [
      "/Library/Frameworks/Python.framework/Versions/3.8/lib/python3.8/site-packages/sklearn/linear_model/_logistic.py:762: ConvergenceWarning: lbfgs failed to converge (status=1):\n",
      "STOP: TOTAL NO. of ITERATIONS REACHED LIMIT.\n",
      "\n",
      "Increase the number of iterations (max_iter) or scale the data as shown in:\n",
      "    https://scikit-learn.org/stable/modules/preprocessing.html\n",
      "Please also refer to the documentation for alternative solver options:\n",
      "    https://scikit-learn.org/stable/modules/linear_model.html#logistic-regression\n",
      "  n_iter_i = _check_optimize_result(\n"
     ]
    },
    {
     "name": "stdout",
     "output_type": "stream",
     "text": [
      "0.27325581395348836\n",
      "[0.3560311284046693, 0.6206225680933852, 0.9980544747081712, 1.0, 1.0, 1.0, 1.0] [0.29069767441860467, 0.31976744186046513, 0.3313953488372093, 0.29069767441860467, 0.29069767441860467, 0.26744186046511625, 0.27325581395348836]\n"
     ]
    }
   ],
   "source": [
    "degrees = [1,2,3,4,5,6,7]\n",
    "training_scores, validation_scores = [], []\n",
    "\n",
    "for degree in degrees:\n",
    "    clf = lm.LogisticRegression(penalty = 'l2', max_iter = 500, tol = 0.001)\n",
    "\n",
    "    scaler = preprocessing.StandardScaler().fit(Xtr)\n",
    "    X_scaled = scaler.transform(Xtr)\n",
    "    #print(X_scaled.mean(axis=0))\n",
    "\n",
    "    poly = PolynomialFeatures(degree = degree, interaction_only=False, include_bias=False)\n",
    "    X_poly = poly.fit_transform(X_scaled)\n",
    "    print(X_poly.shape)\n",
    "\n",
    "\n",
    "    clf.fit(X_poly, Ytr)\n",
    "    clf.predict(X_poly)\n",
    "    training_scores.append(clf.score(X_poly, Ytr))\n",
    "\n",
    "    Xva_scaled = scaler.transform(Xva)\n",
    "    Xva_poly = poly.fit_transform(Xva_scaled)\n",
    "    print(clf.score(Xva_poly, Yva))\n",
    "    validation_scores.append(clf.score(Xva_poly, Yva))\n",
    "\n",
    "print(training_scores, validation_scores)"
   ]
  },
  {
   "cell_type": "code",
   "execution_count": 15,
   "metadata": {},
   "outputs": [
    {
     "data": {
      "image/png": "[encoded data removed]",
      "text/plain": [
       "<Figure size 432x288 with 1 Axes>"
      ]
     },
     "metadata": {
      "needs_background": "light"
     },
     "output_type": "display_data"
    }
   ],
   "source": [
    "training = plt.plot(degrees, training_scores, label = 'training')\n",
    "validation = plt.plot(degrees, validation_scores, label = 'validation')\n",
    "plt.legend(handles=[training[0], validation[0]])\n",
    "plt.show()"
   ]
  },
  {
   "cell_type": "code",
   "execution_count": 24,
   "metadata": {},
   "outputs": [
    {
     "name": "stdout",
     "output_type": "stream",
     "text": [
      "(514, 104)\n",
      "[[ 0.07705588  0.09497973 -0.2725956  -0.37618827 -0.38803766 -0.05191989\n",
      "   0.44115    -0.03610982  0.15840441  0.16217652  0.0269794   0.06785559\n",
      "   0.16095086 -0.19621329 -0.20409669 -0.04327126 -0.04540681  0.31661217\n",
      "  -0.19645796  0.06999167  0.05258568 -0.72654819  0.00244142 -0.17225557\n",
      "   0.26234836  0.19598017 -0.08592557 -0.1604022   0.3539186   0.26159696\n",
      "   0.09929292  0.15261833  0.05264291  0.2800914   0.1588497  -0.03958767\n",
      "   0.13605479  0.52918298 -0.08120405 -0.36109663  0.14434656 -0.40808302\n",
      "   0.18062174 -0.44248802  0.05802696 -0.26866221 -0.16567176 -0.05591229\n",
      "   0.22198449  0.64939589  0.37870792  0.50635951  0.41302867  0.30244863\n",
      "  -0.26499609 -0.09767157 -0.16155305 -0.06268027  0.40333418  0.59154\n",
      "   0.88517659 -0.09684056  0.78411111 -0.81217621  0.54293824 -0.3000245\n",
      "  -0.09953997  0.19974988 -0.12799788  0.16414616  0.28932839  0.02412686\n",
      "  -0.20669537 -0.37041482 -0.23993233  0.57810263  0.01167125 -0.03290309\n",
      "  -0.18484318  0.09675299  0.18498411 -0.01615244 -0.07456337  0.25632843\n",
      "  -0.34444152 -0.16748511  0.01962786  0.06968111  0.56883792  0.43956109\n",
      "  -0.32238214 -0.08780605 -0.13724355  0.05018014 -0.14921275  0.00453315\n",
      "   0.10589746 -0.01499514 -0.34119282 -0.16085121 -0.09476054 -0.1694745\n",
      "  -0.01723062  0.00350067]\n",
      " [ 0.08650945 -0.03306434 -0.04826349  0.18544749  0.55009533  0.22072806\n",
      "  -0.0219363   0.06328413 -0.39327694 -0.40240182 -0.1460693  -0.10890958\n",
      "   0.18107109  0.24748712  0.11249375 -0.04460612 -0.2082584  -0.334228\n",
      "   0.2289192  -0.34508407  0.14896038  0.40286914 -0.06262267  0.18090248\n",
      "  -0.14154363  0.00715686 -0.20691655  0.0199755  -0.37512732 -0.02527929\n",
      "  -0.03332409 -0.00100995 -0.22960323 -0.48709478 -0.02683115  0.13655017\n",
      "   0.16263302 -0.35656732 -0.06925348 -0.43259033 -0.03510438 -0.02924789\n",
      "  -0.04021404  0.1355053  -0.01296154  0.18597305 -0.56209938  0.09471805\n",
      "  -0.01936687 -0.12721797  0.04979852 -0.04271471 -0.40302302  0.33886254\n",
      "  -0.12746828 -0.2685951  -0.67767597 -0.2241991   0.12658728 -0.0971338\n",
      "  -0.77158477  0.46723381 -0.72735803  0.51298726  0.28434383 -0.2148738\n",
      "  -0.11037817  0.01325876 -0.03513241 -0.07247731  0.51499221  0.46517154\n",
      "  -0.02309067  0.25332841 -0.1747071  -0.64769598 -0.05612016  0.33895443\n",
      "  -0.51170172 -0.1749561  -0.23077403  0.13890377 -0.1031444   0.33783102\n",
      "   0.24177082  0.22944508  0.28325393 -0.24958229  0.60703621  0.04669715\n",
      "  -0.8322543   0.06540209 -0.19334205 -0.21705401  0.1084771  -0.12570434\n",
      "  -0.05660685 -0.11917209 -0.10830319 -0.06930856 -0.39943192  0.22774745\n",
      "  -0.1607592  -0.03068216]\n",
      " [-0.09366987 -0.1635236   0.15673929  0.24337328 -0.0305476  -0.28340854\n",
      "   0.13473155  0.14466754  0.10008441 -0.35379923  0.07052218  0.0878616\n",
      "  -0.19243566 -0.13067251  0.04937576 -0.04441165 -0.00236751  0.25315242\n",
      "  -0.11251628 -0.15350824 -0.12109134 -0.07114204  0.05153303 -0.03894577\n",
      "  -0.10845768 -0.07238124  0.16907839  0.15222719  0.00373567 -0.19234019\n",
      "  -0.1259001  -0.01973344  0.36961073 -0.07504228 -0.47293858 -0.01060559\n",
      "  -0.31690571  0.33547365 -0.02163865  0.49006404 -0.24347455  0.13296874\n",
      "   0.05332735  0.36585963  0.03583533 -0.03159119  0.28492961 -0.06939805\n",
      "   0.23463895 -0.1882806  -0.41956295 -0.15072906  0.38255137 -0.23593956\n",
      "   0.7394377   0.65239796  0.49356848  0.00475946 -0.08779626 -0.18917362\n",
      "   0.33758405 -0.09449678  0.16334621  0.61293958 -0.03950737  0.55046303\n",
      "  -0.04463428  0.31769547  0.23488781 -0.26553797 -0.16998823 -0.4847767\n",
      "  -0.22513076 -0.186489    0.05175641 -0.01140439  0.01242888 -0.10462812\n",
      "   0.03162319  0.06339063  0.23944351  0.05320926 -0.17524642 -0.07435901\n",
      "  -0.44712029 -0.01297758  0.05555341  0.11914066 -0.9769218  -0.07675864\n",
      "   0.79563532 -0.29412884  0.2464957  -0.4473792   0.01731032 -0.20140015\n",
      "  -0.0394971  -0.33846252  0.19080628 -0.00998545  0.36851158  0.09743742\n",
      "   0.11806626  0.08080501]\n",
      " [-0.06989546  0.10160822  0.1641198  -0.0526325  -0.13151006  0.11460037\n",
      "  -0.55394525 -0.17184185  0.13478813  0.59402453  0.04856772 -0.04680761\n",
      "  -0.14958629  0.07939868  0.04222717  0.13228903  0.25603273 -0.23553659\n",
      "   0.08005504  0.42860064 -0.08045472  0.39482109  0.00864822  0.03029886\n",
      "  -0.01234705 -0.13075578  0.12376373 -0.01180049  0.01747306 -0.04397748\n",
      "   0.05993128 -0.13187493 -0.19265042  0.28204566  0.34092003 -0.08635691\n",
      "   0.01821791 -0.50808931  0.17209618  0.30362293  0.13423236  0.30436217\n",
      "  -0.19373505 -0.05887691 -0.08090075  0.11428035  0.44284152  0.03059229\n",
      "  -0.43725657 -0.33389731 -0.00894349 -0.31291573 -0.39255703 -0.40537162\n",
      "  -0.34697333 -0.28613128  0.34566054  0.2821199  -0.4421252  -0.30523258\n",
      "  -0.45117586 -0.27589647 -0.22009929 -0.31375063 -0.7877747  -0.03556474\n",
      "   0.25455242 -0.53070412 -0.07175752  0.17386912 -0.63433237 -0.00452169\n",
      "   0.4549168   0.30357541  0.36288302  0.08099775  0.03202002 -0.20142322\n",
      "   0.66492171  0.01481248 -0.19365359 -0.17596059  0.35295419 -0.51980044\n",
      "   0.54979099 -0.04898239 -0.35843519  0.06076052 -0.19895232 -0.4094996\n",
      "   0.35900112  0.31653279  0.0840899   0.61425306  0.02342533  0.32257134\n",
      "  -0.00979351  0.47262975  0.25868973  0.24014523  0.12568088 -0.15571037\n",
      "   0.05992356 -0.05362351]]\n",
      "0.31976744186046513\n"
     ]
    },
    {
     "ename": "TypeError",
     "evalue": "only size-1 arrays can be converted to Python scalars",
     "output_type": "error",
     "traceback": [
      "\u001b[0;31m---------------------------------------------------------------------------\u001b[0m",
      "\u001b[0;31mTypeError\u001b[0m                                 Traceback (most recent call last)",
      "\u001b[0;32m<ipython-input-24-ed66b4d612f5>\u001b[0m in \u001b[0;36m<module>\u001b[0;34m\u001b[0m\n\u001b[1;32m     23\u001b[0m \u001b[0;34m\u001b[0m\u001b[0m\n\u001b[1;32m     24\u001b[0m \u001b[0;32mfor\u001b[0m \u001b[0mi\u001b[0m\u001b[0;34m,\u001b[0m\u001b[0mv\u001b[0m \u001b[0;32min\u001b[0m \u001b[0menumerate\u001b[0m\u001b[0;34m(\u001b[0m\u001b[0mimportance\u001b[0m\u001b[0;34m)\u001b[0m\u001b[0;34m:\u001b[0m\u001b[0;34m\u001b[0m\u001b[0;34m\u001b[0m\u001b[0m\n\u001b[0;32m---> 25\u001b[0;31m     \u001b[0mprint\u001b[0m\u001b[0;34m(\u001b[0m\u001b[0;34m'Feature: %0d, Score: %.5f'\u001b[0m \u001b[0;34m%\u001b[0m \u001b[0;34m(\u001b[0m\u001b[0mi\u001b[0m\u001b[0;34m,\u001b[0m\u001b[0mv\u001b[0m\u001b[0;34m)\u001b[0m\u001b[0;34m)\u001b[0m\u001b[0;34m\u001b[0m\u001b[0;34m\u001b[0m\u001b[0m\n\u001b[0m",
      "\u001b[0;31mTypeError\u001b[0m: only size-1 arrays can be converted to Python scalars"
     ]
    }
   ],
   "source": [
    "clf = lm.LogisticRegression(penalty = 'l2', max_iter = 250)\n",
    "\n",
    "scaler = preprocessing.StandardScaler().fit(Xtr)\n",
    "X_scaled = scaler.transform(Xtr)\n",
    "#print(X_scaled.mean(axis=0))\n",
    "\n",
    "poly = PolynomialFeatures(degree = 2, interaction_only=False, include_bias=False)\n",
    "X_poly = poly.fit_transform(X_scaled)\n",
    "print(X_poly.shape)\n",
    "\n",
    "\n",
    "clf.fit(X_poly, Ytr)\n",
    "print(clf.coef_)\n",
    "clf.predict(X_poly)\n",
    "training_scores.append(clf.score(X_poly, Ytr))\n",
    "\n",
    "Xva_scaled = scaler.transform(Xva)\n",
    "Xva_poly = poly.fit_transform(Xva_scaled)\n",
    "print(clf.score(Xva_poly, Yva))\n",
    "validation_scores.append(clf.score(Xva_poly, Yva))\n",
    "\n",
    "importance = clf.coef_\n",
    "\n",
    "for i,v in enumerate(importance):\n",
    "    print('Feature: %0d, Score: %.5f' % (i,v))"
   ]
  },
  {
   "cell_type": "code",
   "execution_count": 71,
   "metadata": {},
   "outputs": [
    {
     "name": "stdout",
     "output_type": "stream",
     "text": [
      "[(0, 0.0), (1, 0.0), (2, 0.0), (3, 0.0), (4, 0.0), (5, 0.0), (6, 0.0), (7, 0.0), (8, 1.0), (9, 0.0), (10, 0.0), (11, 0.0), (12, 0.0)]\n",
      "[(0, 0.0), (1, 0.0), (2, 0.0), (3, 0.0), (4, 0.0), (5, 0.0), (6, 0.0), (7, 0.0), (8, 0.0), (9, 0.0), (10, 1.0), (11, 0.0), (12, 0.0)]\n",
      "[(0, 0.0), (1, 0.0), (2, 0.0), (3, 0.0), (4, 0.0), (5, 0.0), (6, 0.0), (7, 0.0), (8, 0.0), (9, 0.0), (10, 1.0), (11, 0.0), (12, 0.0)]\n",
      "[(0, 0.0), (1, 0.0), (2, 0.0), (3, 0.0), (4, 0.0), (5, 0.0), (6, 0.0), (7, 0.0), (8, 0.0), (9, 0.0), (10, 1.0), (11, 0.0), (12, 0.0)]\n",
      "[(0, 0.0), (1, 0.0), (2, 0.0), (3, 0.0), (4, 0.0), (5, 0.0), (6, 0.0), (7, 0.0), (8, 0.0), (9, 0.0), (10, 1.0), (11, 0.0), (12, 0.0)]\n",
      "[(0, 0.0), (1, 0.0), (2, 0.0), (3, 0.0), (4, 0.0), (5, 0.0), (6, 0.0), (7, 0.0), (8, 0.0), (9, 0.0), (10, 1.0), (11, 0.0), (12, 0.0)]\n",
      "[(0, 0.0), (1, 0.0), (2, 0.0), (3, 0.0), (4, 0.0), (5, 0.0), (6, 0.0), (7, 0.0), (8, 0.0), (9, 0.0), (10, 1.0), (11, 0.0), (12, 0.0)]\n",
      "[(0, 0.0), (1, 0.0), (2, 0.0), (3, 0.0), (4, 0.0), (5, 0.0), (6, 0.0), (7, 0.0), (8, 0.0), (9, 0.0), (10, 1.0), (11, 0.0), (12, 0.0)]\n",
      "[(0, 0.0), (1, 0.0), (2, 0.0), (3, 0.0), (4, 0.0), (5, 0.0), (6, 0.0), (7, 0.0), (8, 0.0), (9, 0.0), (10, 1.0), (11, 0.0), (12, 0.0)]\n",
      "[(0, 0.0), (1, 0.0), (2, 0.0), (3, 0.0), (4, 0.0), (5, 0.0), (6, 0.0), (7, 0.0), (8, 0.0), (9, 0.0), (10, 1.0), (11, 0.0), (12, 0.0)]\n",
      "[(0, 0.0), (1, 0.0), (2, 0.0), (3, 0.0), (4, 0.0), (5, 0.0), (6, 0.0), (7, 0.0), (8, 0.0), (9, 0.0), (10, 1.0), (11, 0.0), (12, 0.0)]\n",
      "[(0, 0.0), (1, 1.0), (2, 0.0), (3, 0.0), (4, 0.0), (5, 0.0), (6, 0.0), (7, 0.0), (8, 0.0), (9, 0.0), (10, 0.0), (11, 0.0), (12, 0.0)]\n",
      "[(0, 0.0), (1, 1.0), (2, 0.0), (3, 0.0), (4, 0.0), (5, 0.0), (6, 0.0), (7, 0.0), (8, 0.0), (9, 0.0), (10, 0.0), (11, 0.0), (12, 0.0)]\n",
      "[(0, 0.0), (1, 0.0), (2, 0.0), (3, 0.0), (4, 0.0), (5, 0.7318531078896173), (6, 0.0), (7, 0.0), (8, 0.26814689211038273), (9, 0.0), (10, 0.0), (11, 0.0), (12, 0.0)]\n",
      "[(0, 0.29601336905993403), (1, 0.0), (2, 0.0), (3, 0.3042792411730216), (4, 0.0), (5, 0.0), (6, 0.0), (7, 0.0), (8, 0.0), (9, 0.0), (10, 0.39970738976704445), (11, 0.0), (12, 0.0)]\n",
      "[(0, 0.2732253412283253), (1, 0.0), (2, 0.0), (3, 0.0), (4, 0.0), (5, 0.3578379843660262), (6, 0.0), (7, 0.0), (8, 0.0), (9, 0.0), (10, 0.36893667440564853), (11, 0.0), (12, 0.0)]\n",
      "[(0, 0.2893790453428469), (1, 0.0), (2, 0.0), (3, 0.0), (4, 0.29605305307997565), (5, 0.0), (6, 0.0), (7, 0.0), (8, 0.0), (9, 0.0), (10, 0.4145679015771774), (11, 0.0), (12, 0.0)]\n",
      "[(0, 0.0), (1, 0.27013652570003777), (2, 0.0), (3, 0.0), (4, 0.0), (5, 0.32869579492533385), (6, 0.0), (7, 0.0), (8, 0.0), (9, 0.0), (10, 0.4011676793746284), (11, 0.0), (12, 0.0)]\n",
      "[(0, 0.0), (1, 0.0), (2, 0.0), (3, 0.0), (4, 0.0), (5, 0.3210344767453258), (6, 0.0), (7, 0.0), (8, 0.0), (9, 0.2871483536300189), (10, 0.39181716962465535), (11, 0.0), (12, 0.0)]\n",
      "[(0, 0.0), (1, 0.0), (2, 0.0), (3, 0.3028801284475338), (4, 0.0), (5, 0.0), (6, 0.0), (7, 0.0), (8, 0.29925038467139803), (9, 0.0), (10, 0.3978694868810682), (11, 0.0), (12, 0.0)]\n",
      "[(0, 0.0), (1, 0.38707626341837365), (2, 0.0), (3, 0.2649197602161112), (4, 0.0), (5, 0.0), (6, 0.0), (7, 0.0), (8, 0.0), (9, 0.0), (10, 0.3480039763655152), (11, 0.0), (12, 0.0)]\n",
      "[(0, 0.0), (1, 0.3608714924291152), (2, 0.0), (3, 0.0), (4, 0.0), (5, 0.314684137840698), (6, 0.0), (7, 0.0), (8, 0.0), (9, 0.0), (10, 0.3244443697301868), (11, 0.0), (12, 0.0)]\n",
      "[(0, 0.0), (1, 0.0), (2, 0.0), (3, 0.29499116670022313), (4, 0.0), (5, 0.3175024467598081), (6, 0.0), (7, 0.0), (8, 0.0), (9, 0.0), (10, 0.3875063865399687), (11, 0.0), (12, 0.0)]\n",
      "[(0, 0.0), (1, 0.0), (2, 0.0), (3, 0.0), (4, 0.0), (5, 0.6414825788057387), (6, 0.0), (7, 0.0), (8, 0.0), (9, 0.0), (10, 0.35851742119426133), (11, 0.0), (12, 0.0)]\n",
      "[(0, 0.0), (1, 0.427797291374056), (2, 0.0), (3, 0.0), (4, 0.0), (5, 0.0), (6, 0.0), (7, 0.0), (8, 0.0), (9, 0.23867139283206626), (10, 0.33353131579387785), (11, 0.0), (12, 0.0)]\n",
      "[(0, 0.0), (1, 0.427797291374056), (2, 0.0), (3, 0.0), (4, 0.0), (5, 0.0), (6, 0.0), (7, 0.0), (8, 0.0), (9, 0.23867139283206626), (10, 0.33353131579387785), (11, 0.0), (12, 0.0)]\n",
      "[(0, 0.0), (1, 0.0), (2, 0.0), (3, 0.0), (4, 0.22718633348583137), (5, 0.3255925247135967), (6, 0.0), (7, 0.0), (8, 0.44722114180057193), (9, 0.0), (10, 0.0), (11, 0.0), (12, 0.0)]\n",
      "[(0, 0.0), (1, 0.1842247444767346), (2, 0.0), (3, 0.2170431177272405), (4, 0.18886765388512997), (5, 0.14715842524365097), (6, 0.0), (7, 0.0), (8, 0.0), (9, 0.0), (10, 0.1796043784765502), (11, 0.0), (12, 0.08310168019069374)]\n",
      "[(0, 0.09325194839957704), (1, 0.0), (2, 0.0), (3, 0.0), (4, 0.0), (5, 0.32422168192303924), (6, 0.18726721070256627), (7, 0.0), (8, 0.2140552960192265), (9, 0.0), (10, 0.18120386295559085), (11, 0.0), (12, 0.0)]\n",
      "[(0, 0.2627069014148009), (1, 0.0), (2, 0.0), (3, 0.0), (4, 0.0), (5, 0.12458309566236309), (6, 0.3388211181224667), (7, 0.0), (8, 0.0), (9, 0.0), (10, 0.15205156910367726), (11, 0.0), (12, 0.12183731569669207)]\n",
      "[(0, 0.0), (1, 0.30036358565817184), (2, 0.0), (3, 0.0), (4, 0.0), (5, 0.3181004170675391), (6, 0.03940920173058853), (7, 0.16534883227231081), (8, 0.0), (9, 0.0), (10, 0.1767779632713896), (11, 0.0), (12, 0.0)]\n",
      "[(0, 0.0), (1, 0.0), (2, 0.0), (3, 0.0), (4, 0.0), (5, 0.1302948280811829), (6, 0.3543549716864018), (7, 0.0), (8, 0.13630995513446234), (9, 0.22001760281645405), (10, 0.15902264228149895), (11, 0.0), (12, 0.0)]\n",
      "[(0, 0.0), (1, 0.2900062704209394), (2, 0.0), (3, 0.30604120710089405), (4, 0.0), (5, 0.0), (6, 0.0), (7, 0.13772651743154862), (8, 0.0), (9, 0.0), (10, 0.26622600504661786), (11, 0.0), (12, 0.0)]\n",
      "[(0, 0.0), (1, 0.1785860988115048), (2, 0.16075324492585819), (3, 0.37354509933521823), (4, 0.0), (5, 0.0), (6, 0.12655631219058824), (7, 0.0), (8, 0.0), (9, 0.0), (10, 0.1605592447368304), (11, 0.0), (12, 0.0)]\n",
      "[(0, 0.0), (1, 0.4513475478454951), (2, 0.0), (3, 0.0), (4, 0.0), (5, 0.16243783596396974), (6, 0.0), (7, 0.0), (8, 0.0), (9, 0.12198736145122764), (10, 0.2642272547393075), (11, 0.0), (12, 0.0)]\n",
      "[(0, 0.0), (1, 0.3239957136103996), (2, 0.15757543987797837), (3, 0.19554099414247755), (4, 0.16550257764233658), (5, 0.0), (6, 0.0), (7, 0.0), (8, 0.0), (9, 0.0), (10, 0.15738527472680794), (11, 0.0), (12, 0.0)]\n",
      "[(0, 0.0), (1, 0.45421795600028914), (2, 0.0), (3, 0.0), (4, 0.0), (5, 0.16347088220787598), (6, 0.0), (7, 0.0), (8, 0.0), (9, 0.12276315721828758), (10, 0.16854108920488667), (11, 0.0), (12, 0.09100691536866058)]\n",
      "[(0, 0.0), (1, 0.39017688179552723), (2, 0.06666946569600123), (3, 0.0), (4, 0.0), (5, 0.0), (6, 0.1151971386148576), (7, 0.0), (8, 0.0), (9, 0.26982956349353365), (10, 0.1581269504000803), (11, 0.0), (12, 0.0)]\n",
      "[(0, 0.0), (1, 0.39017688179552723), (2, 0.06666946569600123), (3, 0.0), (4, 0.0), (5, 0.0), (6, 0.1151971386148576), (7, 0.0), (8, 0.0), (9, 0.26982956349353365), (10, 0.1581269504000803), (11, 0.0), (12, 0.0)]\n",
      "[(0, 0.0), (1, 0.0), (2, 0.0), (3, 0.0), (4, 0.2619594764550724), (5, 0.29464096856430216), (6, 0.0), (7, 0.13477229541015118), (8, 0.17629872219329024), (9, 0.1323285373771841), (10, 0.0), (11, 0.0), (12, 0.0)]\n",
      "[(0, 0.0), (1, 0.0), (2, 0.08401345593958873), (3, 0.16566509466735257), (4, 0.149945556521919), (5, 0.15764950819002438), (6, 0.08135430417450236), (7, 0.0), (8, 0.12205257513365367), (9, 0.0), (10, 0.10779650051000618), (11, 0.0), (12, 0.13152300486295318)]\n",
      "[(0, 0.15700880590672614), (1, 0.09406262050611251), (2, 0.12750130759520717), (3, 0.04289466564741072), (4, 0.04276376098776437), (5, 0.09860832593051232), (6, 0.0854815270218996), (7, 0.0), (8, 0.054896868796436134), (9, 0.08638463169935522), (10, 0.18658039567543183), (11, 0.023817090233144086), (12, 0.0)]\n",
      "[(0, 0.16518506736485167), (1, 0.10634144140890782), (2, 0.02072482169753758), (3, 0.033362777762849766), (4, 0.04060020628584644), (5, 0.17153566486304705), (6, 0.06571542739014483), (7, 0.06394612326097393), (8, 0.0), (9, 0.0), (10, 0.2559794996931746), (11, 0.0), (12, 0.07660897027266637)]\n",
      "[(0, 0.0), (1, 0.2460884616855429), (2, 0.06111591686418939), (3, 0.0), (4, 0.09401491857693062), (5, 0.22914548316931171), (6, 0.10045968960704), (7, 0.0), (8, 0.0), (9, 0.11852204163835008), (10, 0.15065348845863535), (11, 0.0), (12, 0.0)]\n",
      "[(0, 0.0), (1, 0.0), (2, 0.21398266532238497), (3, 0.0), (4, 0.062024688003933674), (5, 0.0), (6, 0.0), (7, 0.0), (8, 0.23167405511824263), (9, 0.17686109975596945), (10, 0.2614165823549435), (11, 0.05404090944452559), (12, 0.0)]\n",
      "[(0, 0.06401157351237367), (1, 0.09462321991521233), (2, 0.12288011453026347), (3, 0.2365907232154987), (4, 0.0), (5, 0.0), (6, 0.08144535133398345), (7, 0.09147569759814644), (8, 0.10298416152839589), (9, 0.0), (10, 0.20598915836612605), (11, 0.0), (12, 0.0)]\n",
      "[(0, 0.043457666016696685), (1, 0.14872560058661863), (2, 0.12255115591707628), (3, 0.15694889032664094), (4, 0.12378164351954389), (5, 0.06533171472322408), (6, 0.02930140905282154), (7, 0.11655610509728827), (8, 0.054240478593813306), (9, 0.0), (10, 0.1391053361662764), (11, 0.0), (12, 0.0)]\n",
      "[(0, 0.0), (1, 0.25393435311935014), (2, 0.0), (3, 0.0), (4, 0.16014343301778405), (5, 0.19954935829548534), (6, 0.0), (7, 0.09652388810032529), (8, 0.05993174785320188), (9, 0.05972505653184045), (10, 0.17019216308201285), (11, 0.0), (12, 0.0)]\n",
      "[(0, 0.03358532554502275), (1, 0.3126586891365419), (2, 0.12628282196942492), (3, 0.06671718621376084), (4, 0.09216122535562163), (5, 0.0), (6, 0.030193632978660165), (7, 0.04732342544478366), (8, 0.0), (9, 0.06509593560478023), (10, 0.22598175775140403), (11, 0.0), (12, 0.0)]\n",
      "[(0, 0.0), (1, 0.2547663587249106), (2, 0.0858116222440515), (3, 0.10994794866265874), (4, 0.0), (5, 0.09196249277965676), (6, 0.0), (7, 0.0), (8, 0.0), (9, 0.1435776137859496), (10, 0.3139339638027729), (11, 0.0), (12, 0.0)]\n",
      "[(0, 0.0), (1, 0.29408813011367685), (2, 0.13267590135991694), (3, 0.06378860478769063), (4, 0.0), (5, 0.12436730503519519), (6, 0.06814251544029468), (7, 0.06378860478769062), (8, 0.0), (9, 0.15961216934458333), (10, 0.09353676913095176), (11, 0.0), (12, 0.0)]\n",
      "[(0, 0.0), (1, 0.29408813011367685), (2, 0.13267590135991694), (3, 0.06378860478769063), (4, 0.0), (5, 0.12436730503519519), (6, 0.06814251544029468), (7, 0.06378860478769062), (8, 0.0), (9, 0.15961216934458333), (10, 0.09353676913095176), (11, 0.0), (12, 0.0)]\n",
      "[(0, 0.01864667083322636), (1, 0.0), (2, 0.0), (3, 0.08718565656460749), (4, 0.1399770678542934), (5, 0.2265795558751653), (6, 0.0), (7, 0.14357673166121043), (8, 0.2250787107679314), (9, 0.059594675535158584), (10, 0.06498449592193935), (11, 0.034376434986467606), (12, 0.0)]\n",
      "[(0, 0.07574136797785658), (1, 0.13392257796025606), (2, 0.1071442042248533), (3, 0.1786918932582555), (4, 0.11362108782327221), (5, 0.1484405945504341), (6, 0.0), (7, 0.047542809796295264), (8, 0.08503446400564496), (9, 0.0), (10, 0.05951598353619971), (11, 0.0), (12, 0.05034501686693241)]\n",
      "[(0, 0.13429557884505403), (1, 0.19936241615527406), (2, 0.029286381517144064), (3, 0.03888052849510699), (4, 0.0746924571568713), (5, 0.11266104354569745), (6, 0.14879968378872374), (7, 0.04111896876696204), (8, 0.0), (9, 0.03620433416500601), (10, 0.09423430308847648), (11, 0.0), (12, 0.09046430447568383)]\n",
      "[(0, 0.06792881742942179), (1, 0.07111571710027273), (2, 0.0), (3, 0.02138213489180734), (4, 0.02138213489180735), (5, 0.12289163017389962), (6, 0.15348850496962743), (7, 0.0), (8, 0.1824992094211893), (9, 0.06989402363001053), (10, 0.22563866956124304), (11, 0.019069793789970518), (12, 0.04470936414075041)]\n"
     ]
    },
    {
     "name": "stdout",
     "output_type": "stream",
     "text": [
      "[(0, 0.0), (1, 0.2243057532282486), (2, 0.10836105037304104), (3, 0.0), (4, 0.1040692915561472), (5, 0.16122927577882293), (6, 0.10980208233204816), (7, 0.1015636234665813), (8, 0.03804653551711695), (9, 0.07218852501961466), (10, 0.08043386272837912), (11, 0.0), (12, 0.0)]\n",
      "[(0, 0.047134010278309914), (1, 0.26234953530787164), (2, 0.08941750870512011), (3, 0.05109206341484588), (4, 0.04569424302012096), (5, 0.05615970840234563), (6, 0.04290297862334488), (7, 0.0), (8, 0.020577988661008156), (9, 0.15689841757954134), (10, 0.15667425488229061), (11, 0.04000524620919732), (12, 0.03109404491600352)]\n",
      "[(0, 0.021196343054101608), (1, 0.05733242748726212), (2, 0.12262556863759956), (3, 0.19296061119749852), (4, 0.04978311087036116), (5, 0.05409708385024725), (6, 0.033606204809618324), (7, 0.08537758753168982), (8, 0.07595088685399057), (9, 0.08698621916593381), (10, 0.17362618344803682), (11, 0.04645777309366046), (12, 0.0)]\n",
      "[(0, 0.029446172827136664), (1, 0.19654729574379656), (2, 0.10140193926225978), (3, 0.18079103341206185), (4, 0.01685485714308955), (5, 0.03478900339959505), (6, 0.08098859097398373), (7, 0.0707508971010473), (8, 0.03675242260563164), (9, 0.048142725611562236), (10, 0.17395699451810223), (11, 0.0), (12, 0.029578067401733556)]\n",
      "[(0, 0.0), (1, 0.2786146537754226), (2, 0.0), (3, 0.051853909971328146), (4, 0.06230852694658745), (5, 0.08242073760058424), (6, 0.0), (7, 0.047632764932517786), (8, 0.03289008892167629), (9, 0.20626644799289745), (10, 0.17386032616120314), (11, 0.0), (12, 0.06415254369778291)]\n",
      "[(0, 0.04014385009807757), (1, 0.13969753703345564), (2, 0.08431130559717513), (3, 0.08670924999621915), (4, 0.0822635708382217), (5, 0.07601199266902242), (6, 0.21612872314227147), (7, 0.04879090605154895), (8, 0.030529186764388844), (9, 0.04097278383656976), (10, 0.1544408939730493), (11, 0.0), (12, 0.0)]\n",
      "[(0, 0.0), (1, 0.1969521761185715), (2, 0.09697511192473314), (3, 0.10560184324111788), (4, 0.06406219901074713), (5, 0.05982870096363784), (6, 0.02363833867692179), (7, 0.05057675905690993), (8, 0.0), (9, 0.13371631254277339), (10, 0.21170260284894477), (11, 0.02363833867692179), (12, 0.03330761693872086)]\n",
      "[(0, 0.05950343137249839), (1, 0.23229601559424928), (2, 0.10003934840787525), (3, 0.07729353378795356), (4, 0.01820253233205679), (5, 0.06596739243248728), (6, 0.19876070728654097), (7, 0.04416342321744972), (8, 0.0), (9, 0.13901433865301788), (10, 0.06475927691587095), (11, 0.0), (12, 0.0)]\n",
      "[(0, 0.08558801266198722), (1, 0.21758428308602676), (2, 0.12383615893143933), (3, 0.04294717720892555), (4, 0.0), (5, 0.06415067235298358), (6, 0.19328690341725258), (7, 0.10216832049918258), (8, 0.0), (9, 0.10746264390572864), (10, 0.06297582793647392), (11, 0.0), (12, 0.0)]\n",
      "[(0, 0.020965716116801935), (1, 0.0), (2, 0.05925061890276372), (3, 0.09071558952875493), (4, 0.07272271326402514), (5, 0.21857121326587906), (6, 0.058738035458360045), (7, 0.10538428052747391), (8, 0.22754433388995016), (9, 0.05566588611756087), (10, 0.029109504760027136), (11, 0.008721326096102652), (12, 0.05261078207230049)]\n",
      "[(0, 0.07185326756525907), (1, 0.19333773367250426), (2, 0.016802213749519655), (3, 0.131154309391918), (4, 0.16993380721482595), (5, 0.05838329847787562), (6, 0.07946949094287824), (7, 0.039231944219704794), (8, 0.0), (9, 0.0), (10, 0.1923573845195301), (11, 0.0), (12, 0.0474765502459842)]\n",
      "[(0, 0.17388183123947296), (1, 0.0639322753072986), (2, 0.06433919302468426), (3, 0.10687675410381356), (4, 0.016093843442598368), (5, 0.0728142101411884), (6, 0.12053944110686816), (7, 0.05291500858646119), (8, 0.09709688349717696), (9, 0.02149640840646697), (10, 0.16312511434366864), (11, 0.0), (12, 0.04688903680030204)]\n",
      "[(0, 0.10299900745810822), (1, 0.026547707594219646), (2, 0.17073185027210347), (3, 0.09902474138872751), (4, 0.1209056986255322), (5, 0.09632141574567882), (6, 0.04074693965384185), (7, 0.044959159348334686), (8, 0.13106127659180694), (9, 0.00714075276649208), (10, 0.12111947795694251), (11, 0.011494044670892285), (12, 0.026947927927319735)]\n",
      "[(0, 0.07582883026178149), (1, 0.021563682234294133), (2, 0.09252643104487383), (3, 0.036715229801799185), (4, 0.11255615300430724), (5, 0.08573136250599943), (6, 0.09807206800170226), (7, 0.06379033492072604), (8, 0.039484172401095335), (9, 0.14144705920062178), (10, 0.15256068602581915), (11, 0.03947363054327783), (12, 0.040250360053702326)]\n",
      "[(0, 0.0348793092676069), (1, 0.11641347431512941), (2, 0.11520219361662055), (3, 0.040405338126032156), (4, 0.10732142786768514), (5, 0.05931575765319027), (6, 0.07050919215820914), (7, 0.05692799168925069), (8, 0.12597184642294945), (9, 0.09348929312900663), (10, 0.11839623972355241), (11, 0.06116793603076726), (12, 0.0)]\n",
      "[(0, 0.019470177637414016), (1, 0.20759077272042556), (2, 0.1516633474136938), (3, 0.18763120681578505), (4, 0.0), (5, 0.020891750184070777), (6, 0.03791561815474474), (7, 0.07457733458874914), (8, 0.11796570151408359), (9, 0.028710249454383933), (10, 0.08593317510094316), (11, 0.06765066641570629), (12, 0.0)]\n",
      "[(0, 0.052364601237100974), (1, 0.12322473110275779), (2, 0.12695495504435803), (3, 0.11372291316917722), (4, 0.03171980694785993), (5, 0.13727767345014402), (6, 0.05208182591770548), (7, 0.03297749784505664), (8, 0.16214029129102203), (9, 0.031556109232794546), (10, 0.1153368095215434), (11, 0.0), (12, 0.02064278524047993)]\n",
      "[(0, 0.022523155820249594), (1, 0.1304975389356877), (2, 0.07678679952768558), (3, 0.13028598614498235), (4, 0.04556956775867344), (5, 0.07632591736895691), (6, 0.0), (7, 0.027114375916633116), (8, 0.057407502286795455), (9, 0.10640579105321993), (10, 0.2387657049997398), (11, 0.0), (12, 0.08831766018737618)]\n",
      "[(0, 0.0515496587431914), (1, 0.15595427375636003), (2, 0.07839847500157392), (3, 0.08813260876183117), (4, 0.08970805373820806), (5, 0.07219910063583253), (6, 0.1144100016860202), (7, 0.10497952990398565), (8, 0.014704707225697633), (9, 0.07111751851922662), (10, 0.11780950635714048), (11, 0.015325514013808625), (12, 0.025711051657123698)]\n",
      "[(0, 0.04010491973011471), (1, 0.15030367361870584), (2, 0.0), (3, 0.042887368102554245), (4, 0.0), (5, 0.10088304019649337), (6, 0.11286383032610049), (7, 0.0836448172932465), (8, 0.020133181484703024), (9, 0.13565048898115148), (10, 0.19115808166193207), (11, 0.04390094282425288), (12, 0.07846965578074556)]\n",
      "[(0, 0.08678591517728809), (1, 0.18234434842902963), (2, 0.06392710932986835), (3, 0.04973708096396233), (4, 0.0), (5, 0.04590951571415145), (6, 0.22394194785500038), (7, 0.07311689719535003), (8, 0.0), (9, 0.136690851645401), (10, 0.13754633368994873), (11, 0.0), (12, 0.0)]\n",
      "[(0, 0.14446636266532367), (1, 0.18005090760977294), (2, 0.0875088505863135), (3, 0.04911151152517151), (4, 0.0), (5, 0.04533208757756118), (6, 0.17860803275360715), (7, 0.11565321343265834), (8, 0.0), (9, 0.115380952341357), (10, 0.058339888823676744), (11, 0.0), (12, 0.025548192684557998)]\n",
      "[(0, 0.03982059937604196), (1, 0.07598903503137613), (2, 0.07369661797986636), (3, 0.06485748892955114), (4, 0.06983938101099652), (5, 0.15240117418114596), (6, 0.09739523529143863), (7, 0.12199527809233982), (8, 0.11228131022150825), (9, 0.049294742586519176), (10, 0.05574625845530585), (11, 0.04538272139861259), (12, 0.041300157445297477)]\n",
      "[(0, 0.08602281283114764), (1, 0.057473398533186615), (2, 0.039035842674411764), (3, 0.11048444797344785), (4, 0.08488043391905552), (5, 0.11892084209389184), (6, 0.047617214795522576), (7, 0.11550214364112703), (8, 0.09537474343689807), (9, 0.052620655632449984), (10, 0.12868661750574856), (11, 0.030567839143647045), (12, 0.032813007819465466)]\n",
      "[(0, 0.11210026351217549), (1, 0.054079777684179396), (2, 0.09004253225050905), (3, 0.07751772572635969), (4, 0.08079466881362361), (5, 0.08905842689364721), (6, 0.13413340145578972), (7, 0.07186246282499645), (8, 0.051803220304985007), (9, 0.05669803472315907), (10, 0.13370127712683155), (11, 0.01963079240388016), (12, 0.028577416279863314)]\n",
      "[(0, 0.047387080722539644), (1, 0.07799460879500268), (2, 0.055086102532113164), (3, 0.08427327097621802), (4, 0.13013903564454646), (5, 0.12787706085511338), (6, 0.08023439943323545), (7, 0.03634405215329669), (8, 0.06955730036478383), (9, 0.09892357582120756), (10, 0.1232982066206945), (11, 0.05218945803159042), (12, 0.016695848049658103)]\n",
      "[(0, 0.049300063311747265), (1, 0.12656433680196788), (2, 0.0681368965928295), (3, 0.036585415251092115), (4, 0.06350264041228579), (5, 0.11783606870488768), (6, 0.075855448761157), (7, 0.08506546717384102), (8, 0.05048785240788062), (9, 0.15028230395952155), (10, 0.09663717945594161), (11, 0.06655597449115841), (12, 0.013190352675689646)]\n",
      "[(0, 0.049510125978509296), (1, 0.129218659396033), (2, 0.061311019193155486), (3, 0.10366913955616831), (4, 0.12095917748992494), (5, 0.0830495393307524), (6, 0.05791174731822229), (7, 0.08915825406609876), (8, 0.07876414549639504), (9, 0.0885584835425719), (10, 0.08373782555663105), (11, 0.0480317124641058), (12, 0.006120170611431922)]\n",
      "[(0, 0.08363627485832177), (1, 0.08772504048176237), (2, 0.08282969630608665), (3, 0.08808449035885016), (4, 0.07331671660393481), (5, 0.07324333538222076), (6, 0.0598917165373153), (7, 0.10919376443362733), (8, 0.0827534398851043), (9, 0.05212056174699899), (10, 0.1046268965175633), (11, 0.09202664886270365), (12, 0.01055141802551075)]\n",
      "[(0, 0.042162053748226576), (1, 0.14821706816318925), (2, 0.09622126216428059), (3, 0.10202557179106), (4, 0.04778193192871404), (5, 0.0780052146210879), (6, 0.08062880796826892), (7, 0.08076609307203679), (8, 0.0793181726927508), (9, 0.05866643881911422), (10, 0.13078265137160125), (11, 0.04849169852066214), (12, 0.006933035139007566)]\n",
      "[(0, 0.05622749876827182), (1, 0.0771354879815104), (2, 0.06974674566714083), (3, 0.03294657154200028), (4, 0.12191516970382807), (5, 0.0914643553320305), (6, 0.07736850466915976), (7, 0.08311209086752482), (8, 0.08714346526436884), (9, 0.12106274735921496), (10, 0.09503353921661367), (11, 0.05422573091278033), (12, 0.03261809271555567)]\n",
      "[(0, 0.05398062889526046), (1, 0.10995466222128233), (2, 0.08408156743188688), (3, 0.03661999588935769), (4, 0.06989942789417179), (5, 0.08248243807667552), (6, 0.09482533540260542), (7, 0.09328445393544993), (8, 0.05418303400275834), (9, 0.13924213892051496), (10, 0.11389468643873968), (11, 0.06755163089129713), (12, 0.0)]\n",
      "[(0, 0.035962104153735575), (1, 0.11023823445482468), (2, 0.11312186187248198), (3, 0.09943366787671491), (4, 0.04893133907627845), (5, 0.09707849344658197), (6, 0.07797980864635078), (7, 0.10161854882796094), (8, 0.03170686287531873), (9, 0.0477099170453438), (10, 0.17685742531254142), (11, 0.04797279855141462), (12, 0.011388937860451972)]\n",
      "[(0, 0.06346551626918041), (1, 0.12489220022459271), (2, 0.10804893998748587), (3, 0.06488060033327239), (4, 0.05772791715832286), (5, 0.049223353834147686), (6, 0.16036036218871524), (7, 0.06805522198883797), (8, 0.0700337434049137), (9, 0.09318290564795129), (10, 0.07366783089745375), (11, 0.04522765843288185), (12, 0.021233749632244305)]\n",
      "[(0, 0.06094789774423472), (1, 0.1167293342607434), (2, 0.07496550051620711), (3, 0.05839020372798376), (4, 0.054584416121261484), (5, 0.07534743150827022), (6, 0.1343170201517865), (7, 0.11560775126223745), (8, 0.07256881297268816), (9, 0.12139119788566903), (10, 0.05074633001340697), (11, 0.033119692517601246), (12, 0.03128441131790974)]\n",
      "0.3546511627906977 (5, 8)\n"
     ]
    },
    {
     "name": "stdout",
     "output_type": "stream",
     "text": [
      "[0.02944617 0.1965473  0.10140194 0.18079103 0.01685486 0.034789\n",
      " 0.08098859 0.0707509  0.03675242 0.04814273 0.17395699 0.\n",
      " 0.02957807]\n",
      "0.29069767441860467\n"
     ]
    }
   ],
   "source": [
    "from sklearn.tree import DecisionTreeClassifier\n",
    "\n",
    "depths = [1, 2, 3, 4, 5, 6, 10]\n",
    "features = [i for i in range(1, 14)]\n",
    "scores = []\n",
    "tmp_scores = []\n",
    "\n",
    "for depth in depths:\n",
    "    for feature in features:\n",
    "        dt = DecisionTreeClassifier(max_features = feature, max_depth = depth, criterion = 'entropy', random_state=0)\n",
    "        dt.fit(Xtr, Ytr)\n",
    "        importances = [(index, dt.feature_importances_[index]) for index in range(len(dt.feature_importances_))]\n",
    "        importances.sort(key = lambda x : x[1])\n",
    "        for i in range(5):\n",
    "            pass\n",
    "            #X_tmp = \n",
    "        #print(\"features:\", feature, \"depth:\", depth, dt.score(Xva, Yva))\n",
    "        tmp_scores.append(dt.score(Xva, Yva))\n",
    "    scores.append(tmp_scores)\n",
    "    tmp_scores = []\n",
    "max_score = 0\n",
    "indices = (0, 0)\n",
    "for index in range(len(scores)):\n",
    "    for col in scores[index]:\n",
    "        if col > max_score:\n",
    "            max_score = col\n",
    "            indices = (index, scores[index].index(col))\n",
    "print(max_score, indices)\n",
    "\n",
    "dt = DecisionTreeClassifier(max_depth = 5, max_features = 8, criterion = 'entropy', random_state=0)\n",
    "dt.fit(Xtr, Ytr)\n",
    "print((dt.feature_importances_))\n",
    "Xtrsub = np.vstack(Xtr[:,[1,2,3]])\n",
    "Xvasub = np.vstack(Xva[:,[1,2,3]])\n",
    "#Xtrsub = [Xtr[:,6]]\n",
    "dt = DecisionTreeClassifier(max_depth = 5, criterion = 'entropy', random_state=0)\n",
    "dt.fit(Xtrsub, Ytr)\n",
    "print(dt.score(Xvasub, Yva))\n"
   ]
  }
 ],
 "metadata": {
  "kernelspec": {
   "display_name": "Python 3",
   "language": "python",
   "name": "python3"
  },
  "language_info": {
   "codemirror_mode": {
    "name": "ipython",
    "version": 3
   },
   "file_extension": ".py",
   "mimetype": "text/x-python",
   "name": "python",
   "nbconvert_exporter": "python",
   "pygments_lexer": "ipython3",
   "version": "3.8.6"
  }
 },
 "nbformat": 4,
 "nbformat_minor": 4
}
