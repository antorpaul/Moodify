{
 "cells": [
  {
   "cell_type": "code",
   "execution_count": 2,
   "metadata": {},
   "outputs": [
    {
     "name": "stdout",
     "output_type": "stream",
     "text": [
      "514 172 514 172\n"
     ]
    }
   ],
   "source": [
    "import numpy as np\n",
    "import pandas as pd\n",
    "from sklearn.utils import shuffle\n",
    "\n",
    "df=pd.read_csv('data_moods_features.csv', sep=',',header=None)\n",
    "X = df[df.columns[5:-2]]\n",
    "Y = df[df.columns[-1]]\n",
    "#print(X)\n",
    "X, Y = np.array(X), np.array(Y)\n",
    "#print(X)\n",
    "#print(Y)\n",
    "\n",
    "X, Y = shuffle(X, Y, random_state=0)\n",
    "#np.random.shuffle(X)\n",
    "splitIndex = int(0.75 * len(X))\n",
    "Xtr, Xva, Ytr, Yva = X[:splitIndex], X[splitIndex:], Y[:splitIndex], Y[splitIndex:]\n",
    "print(len(Xtr), len(Xva), len(Ytr), len(Yva))"
   ]
  },
  {
   "cell_type": "code",
   "execution_count": 3,
   "metadata": {},
   "outputs": [
    {
     "name": "stdout",
     "output_type": "stream",
     "text": [
      "{'Happy': 111, 'Sad': 145, 'Energetic': 113, 'Calm': 145}\n"
     ]
    }
   ],
   "source": [
    "counts = {'Happy' : 0, 'Sad' : 0, 'Energetic' : 0, 'Calm' : 0}\n",
    "for line in Ytr:\n",
    "    if 'Happy' in line:\n",
    "        counts['Happy'] += 1\n",
    "    elif 'Sad' in line:\n",
    "        counts['Sad'] += 1\n",
    "    elif 'Energetic' in line:\n",
    "        counts['Energetic'] += 1\n",
    "    else:\n",
    "        counts['Calm'] += 1\n",
    "print(counts)"
   ]
  },
  {
   "cell_type": "code",
   "execution_count": 7,
   "metadata": {
    "scrolled": false
   },
   "outputs": [
    {
     "name": "stdout",
     "output_type": "stream",
     "text": [
      "0.8372093023255814\n",
      "0.8081395348837209\n",
      "0.8197674418604651\n",
      "0.7906976744186046\n"
     ]
    },
    {
     "name": "stderr",
     "output_type": "stream",
     "text": [
      "/Library/Frameworks/Python.framework/Versions/3.8/lib/python3.8/site-packages/sklearn/linear_model/_logistic.py:762: ConvergenceWarning: lbfgs failed to converge (status=1):\n",
      "STOP: TOTAL NO. of ITERATIONS REACHED LIMIT.\n",
      "\n",
      "Increase the number of iterations (max_iter) or scale the data as shown in:\n",
      "    https://scikit-learn.org/stable/modules/preprocessing.html\n",
      "Please also refer to the documentation for alternative solver options:\n",
      "    https://scikit-learn.org/stable/modules/linear_model.html#logistic-regression\n",
      "  n_iter_i = _check_optimize_result(\n"
     ]
    },
    {
     "name": "stdout",
     "output_type": "stream",
     "text": [
      "0.8023255813953488\n",
      "0.7732558139534884\n",
      "[0.8385214007782101, 0.9474708171206225, 0.9980544747081712, 1.0, 1.0, 1.0] [0.8372093023255814, 0.8081395348837209, 0.8197674418604651, 0.7906976744186046, 0.8023255813953488, 0.7732558139534884]\n"
     ]
    },
    {
     "name": "stderr",
     "output_type": "stream",
     "text": [
      "/Library/Frameworks/Python.framework/Versions/3.8/lib/python3.8/site-packages/sklearn/linear_model/_logistic.py:762: ConvergenceWarning: lbfgs failed to converge (status=1):\n",
      "STOP: TOTAL NO. of ITERATIONS REACHED LIMIT.\n",
      "\n",
      "Increase the number of iterations (max_iter) or scale the data as shown in:\n",
      "    https://scikit-learn.org/stable/modules/preprocessing.html\n",
      "Please also refer to the documentation for alternative solver options:\n",
      "    https://scikit-learn.org/stable/modules/linear_model.html#logistic-regression\n",
      "  n_iter_i = _check_optimize_result(\n"
     ]
    }
   ],
   "source": [
    "import sklearn.linear_model as lm\n",
    "from sklearn import preprocessing\n",
    "from sklearn.preprocessing import PolynomialFeatures\n",
    "\n",
    "degrees = [1,2,3,4,5,6]\n",
    "training_scores, validation_scores = [], []\n",
    "\n",
    "for degree in degrees:\n",
    "    clf = lm.LogisticRegression(penalty = 'l2', max_iter = 500)\n",
    "\n",
    "    scaler = preprocessing.StandardScaler().fit(Xtr)\n",
    "    X_scaled = scaler.transform(Xtr)\n",
    "\n",
    "    poly = PolynomialFeatures(degree = degree, interaction_only=False, include_bias=False)\n",
    "    X_poly = poly.fit_transform(X_scaled)\n",
    "\n",
    "    clf.fit(X_poly, Ytr)\n",
    "    clf.predict(X_poly)\n",
    "    training_scores.append(clf.score(X_poly, Ytr))\n",
    "\n",
    "    Xva_scaled = scaler.transform(Xva)\n",
    "    Xva_poly = poly.fit_transform(Xva_scaled)\n",
    "    print(clf.score(Xva_poly, Yva))\n",
    "    validation_scores.append(clf.score(Xva_poly, Yva))\n",
    "\n",
    "print(training_scores, validation_scores)"
   ]
  },
  {
   "cell_type": "code",
   "execution_count": 8,
   "metadata": {},
   "outputs": [
    {
     "data": {
      "image/png": "[encoded data removed]",
      "text/plain": [
       "<Figure size 432x288 with 1 Axes>"
      ]
     },
     "metadata": {
      "needs_background": "light"
     },
     "output_type": "display_data"
    }
   ],
   "source": [
    "import matplotlib.pyplot as plt\n",
    "\n",
    "training = plt.plot(degrees, training_scores, label = 'training')\n",
    "validation = plt.plot(degrees, validation_scores, label = 'validation')\n",
    "plt.legend(handles=[training[0], validation[0]])\n",
    "plt.show()"
   ]
  },
  {
   "cell_type": "code",
   "execution_count": 9,
   "metadata": {},
   "outputs": [
    {
     "data": {
      "image/png": "[encoded data removed]",
      "text/plain": [
       "<Figure size 432x288 with 1 Axes>"
      ]
     },
     "metadata": {
      "needs_background": "light"
     },
     "output_type": "display_data"
    }
   ],
   "source": [
    "tr_err = [1 - x for x in training_scores]\n",
    "va_err = [1 - x for x in validation_scores]\n",
    "\n",
    "training = plt.plot(degrees, tr_err, label = 'training')\n",
    "validation = plt.plot(degrees, va_err, label = 'validation')\n",
    "plt.legend(handles=[training[0], validation[0]])\n",
    "plt.show()"
   ]
  },
  {
   "cell_type": "code",
   "execution_count": 23,
   "metadata": {},
   "outputs": [
    {
     "ename": "TypeError",
     "evalue": "'>' not supported between instances of 'list' and 'float'",
     "output_type": "error",
     "traceback": [
      "\u001b[0;31m---------------------------------------------------------------------------\u001b[0m",
      "\u001b[0;31mTypeError\u001b[0m                                 Traceback (most recent call last)",
      "\u001b[0;32m<ipython-input-23-42dfda729962>\u001b[0m in \u001b[0;36m<module>\u001b[0;34m\u001b[0m\n\u001b[1;32m      9\u001b[0m     \u001b[0;32mfor\u001b[0m \u001b[0mfeature\u001b[0m \u001b[0;32min\u001b[0m \u001b[0mfeatures\u001b[0m\u001b[0;34m:\u001b[0m\u001b[0;34m\u001b[0m\u001b[0;34m\u001b[0m\u001b[0m\n\u001b[1;32m     10\u001b[0m         \u001b[0mdt\u001b[0m \u001b[0;34m=\u001b[0m \u001b[0mDecisionTreeClassifier\u001b[0m\u001b[0;34m(\u001b[0m\u001b[0mmax_features\u001b[0m \u001b[0;34m=\u001b[0m \u001b[0mfeatures\u001b[0m\u001b[0;34m,\u001b[0m \u001b[0mmax_depth\u001b[0m \u001b[0;34m=\u001b[0m \u001b[0mdepth\u001b[0m\u001b[0;34m,\u001b[0m \u001b[0mcriterion\u001b[0m \u001b[0;34m=\u001b[0m \u001b[0;34m'entropy'\u001b[0m\u001b[0;34m,\u001b[0m \u001b[0mrandom_state\u001b[0m\u001b[0;34m=\u001b[0m\u001b[0;36m0\u001b[0m\u001b[0;34m)\u001b[0m\u001b[0;34m\u001b[0m\u001b[0;34m\u001b[0m\u001b[0m\n\u001b[0;32m---> 11\u001b[0;31m         \u001b[0mdt\u001b[0m\u001b[0;34m.\u001b[0m\u001b[0mfit\u001b[0m\u001b[0;34m(\u001b[0m\u001b[0mXtr\u001b[0m\u001b[0;34m,\u001b[0m \u001b[0mYtr\u001b[0m\u001b[0;34m)\u001b[0m\u001b[0;34m\u001b[0m\u001b[0;34m\u001b[0m\u001b[0m\n\u001b[0m\u001b[1;32m     12\u001b[0m         \u001b[0mtmp_scores\u001b[0m\u001b[0;34m.\u001b[0m\u001b[0mappend\u001b[0m\u001b[0;34m(\u001b[0m\u001b[0mdt\u001b[0m\u001b[0;34m.\u001b[0m\u001b[0mscore\u001b[0m\u001b[0;34m(\u001b[0m\u001b[0mXva\u001b[0m\u001b[0;34m,\u001b[0m \u001b[0mYva\u001b[0m\u001b[0;34m)\u001b[0m\u001b[0;34m)\u001b[0m\u001b[0;34m\u001b[0m\u001b[0;34m\u001b[0m\u001b[0m\n\u001b[1;32m     13\u001b[0m     \u001b[0mscores\u001b[0m\u001b[0;34m.\u001b[0m\u001b[0mappend\u001b[0m\u001b[0;34m(\u001b[0m\u001b[0mtmp_scores\u001b[0m\u001b[0;34m)\u001b[0m\u001b[0;34m\u001b[0m\u001b[0;34m\u001b[0m\u001b[0m\n",
      "\u001b[0;32m/Library/Frameworks/Python.framework/Versions/3.8/lib/python3.8/site-packages/sklearn/tree/_classes.py\u001b[0m in \u001b[0;36mfit\u001b[0;34m(self, X, y, sample_weight, check_input, X_idx_sorted)\u001b[0m\n\u001b[1;32m    888\u001b[0m         \"\"\"\n\u001b[1;32m    889\u001b[0m \u001b[0;34m\u001b[0m\u001b[0m\n\u001b[0;32m--> 890\u001b[0;31m         super().fit(\n\u001b[0m\u001b[1;32m    891\u001b[0m             \u001b[0mX\u001b[0m\u001b[0;34m,\u001b[0m \u001b[0my\u001b[0m\u001b[0;34m,\u001b[0m\u001b[0;34m\u001b[0m\u001b[0;34m\u001b[0m\u001b[0m\n\u001b[1;32m    892\u001b[0m             \u001b[0msample_weight\u001b[0m\u001b[0;34m=\u001b[0m\u001b[0msample_weight\u001b[0m\u001b[0;34m,\u001b[0m\u001b[0;34m\u001b[0m\u001b[0;34m\u001b[0m\u001b[0m\n",
      "\u001b[0;32m/Library/Frameworks/Python.framework/Versions/3.8/lib/python3.8/site-packages/sklearn/tree/_classes.py\u001b[0m in \u001b[0;36mfit\u001b[0;34m(self, X, y, sample_weight, check_input, X_idx_sorted)\u001b[0m\n\u001b[1;32m    261\u001b[0m             \u001b[0mmax_features\u001b[0m \u001b[0;34m=\u001b[0m \u001b[0mself\u001b[0m\u001b[0;34m.\u001b[0m\u001b[0mmax_features\u001b[0m\u001b[0;34m\u001b[0m\u001b[0;34m\u001b[0m\u001b[0m\n\u001b[1;32m    262\u001b[0m         \u001b[0;32melse\u001b[0m\u001b[0;34m:\u001b[0m  \u001b[0;31m# float\u001b[0m\u001b[0;34m\u001b[0m\u001b[0;34m\u001b[0m\u001b[0m\n\u001b[0;32m--> 263\u001b[0;31m             \u001b[0;32mif\u001b[0m \u001b[0mself\u001b[0m\u001b[0;34m.\u001b[0m\u001b[0mmax_features\u001b[0m \u001b[0;34m>\u001b[0m \u001b[0;36m0.0\u001b[0m\u001b[0;34m:\u001b[0m\u001b[0;34m\u001b[0m\u001b[0;34m\u001b[0m\u001b[0m\n\u001b[0m\u001b[1;32m    264\u001b[0m                 max_features = max(1,\n\u001b[1;32m    265\u001b[0m                                    int(self.max_features * self.n_features_))\n",
      "\u001b[0;31mTypeError\u001b[0m: '>' not supported between instances of 'list' and 'float'"
     ]
    }
   ],
   "source": [
    "from sklearn.tree import DecisionTreeClassifier\n",
    "\n",
    "depths = [i for i in range(1, 16)]\n",
    "features = [i for i in range(1, 14)]\n",
    "scores = []\n",
    "tmp_scores = []\n",
    "\n",
    "for depth in depths:\n",
    "    for feature in features:\n",
    "        dt = DecisionTreeClassifier(max_features = feature, max_depth = depth, criterion = 'entropy', random_state=0)\n",
    "        dt.fit(Xtr, Ytr)\n",
    "        tmp_scores.append(dt.score(Xva, Yva))\n",
    "    scores.append(tmp_scores)\n",
    "print(scores)"
   ]
  },
  {
   "cell_type": "code",
   "execution_count": 17,
   "metadata": {},
   "outputs": [
    {
     "name": "stdout",
     "output_type": "stream",
     "text": [
      "[0.6744186046511628, 0.45930232558139533, 0.686046511627907, 0.45930232558139533, 0.436046511627907, 0.47093023255813954, 0.4069767441860465, 0.4476744186046512, 0.436046511627907, 0.4418604651162791, 0.42441860465116277, 0.436046511627907, 0.4127906976744186]\n",
      "0.7383720930232558 (1, 1)\n",
      "[0.01362959 0.01541293 0.01412377 0.14745848 0.26611213 0.3979971\n",
      " 0.         0.07351086 0.05182943 0.00744631 0.01247938 0.\n",
      " 0.        ]\n",
      "[[1.63875e+05 4.94000e-01 9.83000e-01]\n",
      " [2.08353e+05 3.36000e-01 7.97000e-03]\n",
      " [1.77224e+05 5.60000e-01 9.84000e-01]\n",
      " ...\n",
      " [1.55226e+05 4.82000e-01 6.41000e-01]\n",
      " [2.59475e+05 7.02000e-01 7.71000e-04]\n",
      " [1.70021e+05 7.03000e-01 3.56000e-01]]\n",
      "0.5988372093023255\n"
     ]
    }
   ],
   "source": [
    "from sklearn.tree import DecisionTreeClassifier\n",
    "\n",
    "depths = [1, 2, 3, 4, 5, 6, 10, 15, 25, 50]\n",
    "features = [i for i in range(1, 14)]\n",
    "scores = []\n",
    "tmp_scores = []\n",
    "\n",
    "for depth in depths:\n",
    "    for feature in features:\n",
    "        dt = DecisionTreeClassifier(max_features = feature, max_depth = depth, criterion = 'entropy', random_state=0)\n",
    "        dt.fit(Xtr, Ytr)\n",
    "        importances = [(index, dt.feature_importances_[index]) for index in range(len(dt.feature_importances_))]\n",
    "        importances.sort(key = lambda x : x[1])\n",
    "        columns = [importances[i][0] for i in range(5)]\n",
    "        X_tmp = Xtr[:, columns]\n",
    "        Xva_tmp = Xva[:, columns]\n",
    "        dt2 = DecisionTreeClassifier(max_depth = depth, criterion = 'entropy', random_state=0)\n",
    "        dt2.fit(X_tmp, Ytr)\n",
    "        tmp_scores.append(dt2.score(Xva_tmp, Yva))\n",
    "    scores.append(tmp_scores)\n",
    "    tmp_scores = []\n",
    "print(scores[len(scores) - 1])\n",
    "max_score = 0\n",
    "indices = (0, 0)\n",
    "for index in range(len(scores)):\n",
    "    for col in scores[index]:\n",
    "        if col > max_score:\n",
    "            max_score = col\n",
    "            indices = (index, scores[index].index(col))\n",
    "print(max_score, indices)\n",
    "\n",
    "dt = DecisionTreeClassifier(max_depth = 5, max_features = 8, criterion = 'entropy', random_state=0)\n",
    "dt.fit(Xtr, Ytr)\n",
    "print((dt.feature_importances_))\n",
    "Xtrsub = Xtr[:,[1,2,3]]\n",
    "print(Xtrsub)\n",
    "Xvasub = Xva[:,[1,2,3]]\n",
    "#Xtrsub = [Xtr[:,6]]\n",
    "dt = DecisionTreeClassifier(max_depth = 5, criterion = 'entropy', random_state=0)\n",
    "dt.fit(Xtrsub, Ytr)\n",
    "print(dt.score(Xvasub, Yva))\n"
   ]
  }
 ],
 "metadata": {
  "kernelspec": {
   "display_name": "Python 3",
   "language": "python",
   "name": "python3"
  },
  "language_info": {
   "codemirror_mode": {
    "name": "ipython",
    "version": 3
   },
   "file_extension": ".py",
   "mimetype": "text/x-python",
   "name": "python",
   "nbconvert_exporter": "python",
   "pygments_lexer": "ipython3",
   "version": "3.8.6"
  }
 },
 "nbformat": 4,
 "nbformat_minor": 4
}
