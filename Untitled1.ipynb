{
 "cells": [
  {
   "cell_type": "code",
   "execution_count": 2,
   "metadata": {},
   "outputs": [
    {
     "name": "stdout",
     "output_type": "stream",
     "text": [
      "514 172 514 172\n"
     ]
    }
   ],
   "source": [
    "import numpy as np\n",
    "import pandas as pd\n",
    "from sklearn.utils import shuffle\n",
    "\n",
    "df=pd.read_csv('data_moods_features.csv', sep=',',header=None)\n",
    "X = df[df.columns[5:-2]]\n",
    "Y = df[df.columns[-1]]\n",
    "#print(X)\n",
    "X, Y = np.array(X), np.array(Y)\n",
    "#print(X)\n",
    "#print(Y)\n",
    "\n",
    "X, Y = shuffle(X, Y, random_state=0)\n",
    "#np.random.shuffle(X)\n",
    "splitIndex = int(0.75 * len(X))\n",
    "Xtr, Xva, Ytr, Yva = X[:splitIndex], X[splitIndex:], Y[:splitIndex], Y[splitIndex:]\n",
    "print(len(Xtr), len(Xva), len(Ytr), len(Yva))"
   ]
  },
  {
   "cell_type": "code",
   "execution_count": 3,
   "metadata": {},
   "outputs": [
    {
     "name": "stdout",
     "output_type": "stream",
     "text": [
      "{'Happy': 111, 'Sad': 145, 'Energetic': 113, 'Calm': 145}\n"
     ]
    }
   ],
   "source": [
    "counts = {'Happy' : 0, 'Sad' : 0, 'Energetic' : 0, 'Calm' : 0}\n",
    "for line in Ytr:\n",
    "    if 'Happy' in line:\n",
    "        counts['Happy'] += 1\n",
    "    elif 'Sad' in line:\n",
    "        counts['Sad'] += 1\n",
    "    elif 'Energetic' in line:\n",
    "        counts['Energetic'] += 1\n",
    "    else:\n",
    "        counts['Calm'] += 1\n",
    "print(counts)"
   ]
  },
  {
   "cell_type": "code",
   "execution_count": 45,
   "metadata": {
    "scrolled": false
   },
   "outputs": [
    {
     "name": "stdout",
     "output_type": "stream",
     "text": [
      "0.8372093023255814\n",
      "0.8081395348837209\n",
      "0.8197674418604651\n",
      "0.7906976744186046\n"
     ]
    },
    {
     "name": "stderr",
     "output_type": "stream",
     "text": [
      "/Library/Frameworks/Python.framework/Versions/3.8/lib/python3.8/site-packages/sklearn/linear_model/_logistic.py:762: ConvergenceWarning: lbfgs failed to converge (status=1):\n",
      "STOP: TOTAL NO. of ITERATIONS REACHED LIMIT.\n",
      "\n",
      "Increase the number of iterations (max_iter) or scale the data as shown in:\n",
      "    https://scikit-learn.org/stable/modules/preprocessing.html\n",
      "Please also refer to the documentation for alternative solver options:\n",
      "    https://scikit-learn.org/stable/modules/linear_model.html#logistic-regression\n",
      "  n_iter_i = _check_optimize_result(\n"
     ]
    },
    {
     "name": "stdout",
     "output_type": "stream",
     "text": [
      "0.8023255813953488\n",
      "0.7732558139534884\n",
      "[0.8385214007782101, 0.9474708171206225, 0.9980544747081712, 1.0, 1.0, 1.0] [0.8372093023255814, 0.8081395348837209, 0.8197674418604651, 0.7906976744186046, 0.8023255813953488, 0.7732558139534884]\n"
     ]
    },
    {
     "name": "stderr",
     "output_type": "stream",
     "text": [
      "/Library/Frameworks/Python.framework/Versions/3.8/lib/python3.8/site-packages/sklearn/linear_model/_logistic.py:762: ConvergenceWarning: lbfgs failed to converge (status=1):\n",
      "STOP: TOTAL NO. of ITERATIONS REACHED LIMIT.\n",
      "\n",
      "Increase the number of iterations (max_iter) or scale the data as shown in:\n",
      "    https://scikit-learn.org/stable/modules/preprocessing.html\n",
      "Please also refer to the documentation for alternative solver options:\n",
      "    https://scikit-learn.org/stable/modules/linear_model.html#logistic-regression\n",
      "  n_iter_i = _check_optimize_result(\n"
     ]
    }
   ],
   "source": [
    "import sklearn.linear_model as lm\n",
    "from sklearn import preprocessing\n",
    "from sklearn.preprocessing import PolynomialFeatures\n",
    "\n",
    "degrees = [1,2,3,4,5,6]\n",
    "training_scores, validation_scores = [], []\n",
    "\n",
    "for degree in degrees:\n",
    "    clf = lm.LogisticRegression(penalty = 'l2', max_iter = 500)\n",
    "\n",
    "    scaler = preprocessing.StandardScaler().fit(Xtr)\n",
    "    X_scaled = scaler.transform(Xtr)\n",
    "\n",
    "    poly = PolynomialFeatures(degree = degree, interaction_only=False, include_bias=False)\n",
    "    X_poly = poly.fit_transform(X_scaled)\n",
    "\n",
    "    clf.fit(X_poly, Ytr)\n",
    "    clf.predict(X_poly)\n",
    "    training_scores.append(clf.score(X_poly, Ytr))\n",
    "\n",
    "    Xva_scaled = scaler.transform(Xva)\n",
    "    Xva_poly = poly.fit_transform(Xva_scaled)\n",
    "    print(clf.score(Xva_poly, Yva))\n",
    "    validation_scores.append(clf.score(Xva_poly, Yva))\n",
    "\n",
    "print(training_scores, validation_scores)"
   ]
  },
  {
   "cell_type": "code",
   "execution_count": 46,
   "metadata": {},
   "outputs": [
    {
     "data": {
      "image/png": "[encoded data removed]",
      "text/plain": [
       "<Figure size 432x288 with 1 Axes>"
      ]
     },
     "metadata": {
      "needs_background": "light"
     },
     "output_type": "display_data"
    }
   ],
   "source": [
    "import matplotlib.pyplot as plt\n",
    "\n",
    "training = plt.plot(degrees, training_scores, label = 'training')\n",
    "validation = plt.plot(degrees, validation_scores, label = 'validation')\n",
    "plt.legend(handles=[training[0], validation[0]])\n",
    "axes = plt.gca()\n",
    "axes.set_ylim([0,1.1])\n",
    "plt.show()"
   ]
  },
  {
   "cell_type": "code",
   "execution_count": 9,
   "metadata": {},
   "outputs": [
    {
     "data": {
      "image/png": "[encoded data removed]",
      "text/plain": [
       "<Figure size 432x288 with 1 Axes>"
      ]
     },
     "metadata": {
      "needs_background": "light"
     },
     "output_type": "display_data"
    }
   ],
   "source": [
    "tr_err = [1 - x for x in training_scores]\n",
    "va_err = [1 - x for x in validation_scores]\n",
    "\n",
    "training = plt.plot(degrees, tr_err, label = 'training')\n",
    "validation = plt.plot(degrees, va_err, label = 'validation')\n",
    "plt.legend(handles=[training[0], validation[0]])\n",
    "plt.show()"
   ]
  },
  {
   "cell_type": "code",
   "execution_count": 32,
   "metadata": {},
   "outputs": [
    {
     "name": "stdout",
     "output_type": "stream",
     "text": [
      "0.8430232558139535 (3, 3)\n"
     ]
    }
   ],
   "source": [
    "from sklearn.tree import DecisionTreeClassifier\n",
    "\n",
    "depths = [i for i in range(1, 16)]\n",
    "features = [i for i in range(1, 14)]\n",
    "scores = []\n",
    "tmp_scores = []\n",
    "\n",
    "for depth in depths:\n",
    "    for feature in features:\n",
    "        dt = DecisionTreeClassifier(max_features = feature, max_depth = depth, criterion = 'entropy', random_state=0)\n",
    "        dt.fit(Xtr, Ytr)\n",
    "        tmp_scores.append(dt.score(Xva, Yva))\n",
    "    scores.append(tmp_scores)\n",
    "    tmp_scores = []\n",
    "max_score = 0\n",
    "indices = (0, 0)\n",
    "for index in range(len(scores)):\n",
    "    for col in scores[index]:\n",
    "        if col > max_score:\n",
    "            max_score = col\n",
    "            indices = (index, scores[index].index(col))\n",
    "print(max_score, indices)"
   ]
  },
  {
   "cell_type": "code",
   "execution_count": 42,
   "metadata": {},
   "outputs": [
    {
     "name": "stdout",
     "output_type": "stream",
     "text": [
      "[[ 4.00000e+01  2.26000e+05  7.63000e-01  5.48000e-01  3.72000e-01\n",
      "   6.38000e-04  1.16000e-01  7.60000e-01 -7.07000e+00  6.83000e-02\n",
      "   8.50100e+01  5.00000e+00  4.00000e+00]\n",
      " [ 3.80000e+01  1.86542e+05  5.64000e-01  9.74000e-01  5.15000e-02\n",
      "   7.65000e-01  1.14000e-01  2.14000e-01 -1.51180e+01  3.38000e-02\n",
      "   9.39610e+01  1.10000e+01  4.00000e+00]\n",
      " [ 2.70000e+01  1.33125e+05  3.73000e-01  9.78000e-01  1.91000e-01\n",
      "   9.44000e-01  7.37000e-02  4.11000e-01 -2.40990e+01  3.02000e-02\n",
      "   9.66820e+01  7.00000e+00  4.00000e+00]\n",
      " [ 3.60000e+01  2.68800e+05  5.67000e-01  9.48000e-01  3.90000e-01\n",
      "   9.66000e-01  8.02000e-02  1.33000e-01 -1.37010e+01  3.01000e-02\n",
      "   9.99970e+01  0.00000e+00  4.00000e+00]\n",
      " [ 5.30000e+01  2.03076e+05  5.91000e-01  4.84000e-02  7.59000e-01\n",
      "   1.23000e-06  1.08000e-01  2.35000e-01 -3.78500e+00  4.04000e-02\n",
      "   1.30043e+02  5.00000e+00  4.00000e+00]\n",
      " [ 5.50000e+01  2.06452e+05  6.99000e-01  5.89000e-02  8.61000e-01\n",
      "   2.64000e-06  7.94000e-02  3.15000e-01 -3.09000e+00  1.73000e-01\n",
      "   1.25942e+02  4.00000e+00  3.00000e+00]\n",
      " [ 3.80000e+01  2.25680e+05  5.43000e-01  1.68000e-04  9.91000e-01\n",
      "   1.31000e-05  3.74000e-01  7.66000e-01 -2.78000e+00  6.68000e-02\n",
      "   1.50031e+02  9.00000e+00  4.00000e+00]\n",
      " [ 3.70000e+01  1.76000e+05  4.74000e-01  9.73000e-01  1.61000e-01\n",
      "   9.07000e-01  1.13000e-01  3.57000e-01 -2.09520e+01  4.30000e-02\n",
      "   8.28920e+01  5.00000e+00  3.00000e+00]]\n"
     ]
    }
   ],
   "source": [
    "from sklearn.utils import resample\n",
    "\n",
    "ensemble = []\n",
    "for i in range(25):\n",
    "    Xb = resample(Xtr, replace=True, n_samples = 8, random_state = 1)\n",
    "    print(Xb)\n",
    "    break"
   ]
  }
 ],
 "metadata": {
  "kernelspec": {
   "display_name": "Python 3",
   "language": "python",
   "name": "python3"
  },
  "language_info": {
   "codemirror_mode": {
    "name": "ipython",
    "version": 3
   },
   "file_extension": ".py",
   "mimetype": "text/x-python",
   "name": "python",
   "nbconvert_exporter": "python",
   "pygments_lexer": "ipython3",
   "version": "3.8.6"
  }
 },
 "nbformat": 4,
 "nbformat_minor": 4
}
